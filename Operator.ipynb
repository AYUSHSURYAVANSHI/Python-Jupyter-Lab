{
 "cells": [
  {
   "cell_type": "code",
   "execution_count": 1,
   "id": "2eebdeae-7462-4616-96e0-5509be0f7c5b",
   "metadata": {},
   "outputs": [
    {
     "data": {
      "text/plain": [
       "6"
      ]
     },
     "execution_count": 1,
     "metadata": {},
     "output_type": "execute_result"
    }
   ],
   "source": [
    "4+2"
   ]
  },
  {
   "cell_type": "code",
   "execution_count": 2,
   "id": "80a11cb1-e6dd-4690-9c9f-0deca3213c32",
   "metadata": {},
   "outputs": [
    {
     "data": {
      "text/plain": [
       "42"
      ]
     },
     "execution_count": 2,
     "metadata": {},
     "output_type": "execute_result"
    }
   ],
   "source": [
    "45-3"
   ]
  },
  {
   "cell_type": "code",
   "execution_count": 3,
   "id": "e7904256-457d-4a1c-b2c7-fd39a3694f09",
   "metadata": {},
   "outputs": [
    {
     "data": {
      "text/plain": [
       "1.25"
      ]
     },
     "execution_count": 3,
     "metadata": {},
     "output_type": "execute_result"
    }
   ],
   "source": [
    "5/4"
   ]
  },
  {
   "cell_type": "code",
   "execution_count": 4,
   "id": "8feb3e33-9ec3-4867-be2e-dcde4c979ada",
   "metadata": {},
   "outputs": [
    {
     "data": {
      "text/plain": [
       "1"
      ]
     },
     "execution_count": 4,
     "metadata": {},
     "output_type": "execute_result"
    }
   ],
   "source": [
    "5//4\n"
   ]
  },
  {
   "cell_type": "code",
   "execution_count": 5,
   "id": "ef927fe6-e663-4ff9-ad3f-0d7bc28597dd",
   "metadata": {},
   "outputs": [
    {
     "data": {
      "text/plain": [
       "1"
      ]
     },
     "execution_count": 5,
     "metadata": {},
     "output_type": "execute_result"
    }
   ],
   "source": [
    "5%4"
   ]
  },
  {
   "cell_type": "code",
   "execution_count": 6,
   "id": "810ddd5b-081a-44fb-930b-d5de5e71e566",
   "metadata": {},
   "outputs": [
    {
     "data": {
      "text/plain": [
       "32"
      ]
     },
     "execution_count": 6,
     "metadata": {},
     "output_type": "execute_result"
    }
   ],
   "source": [
    "2**5"
   ]
  },
  {
   "cell_type": "code",
   "execution_count": 7,
   "id": "71fd1af9-2f39-4b51-9bb0-9ffdfca438fd",
   "metadata": {},
   "outputs": [],
   "source": [
    "# comaration operator "
   ]
  },
  {
   "cell_type": "code",
   "execution_count": 8,
   "id": "a2d090c2-e1d6-4101-a4ba-425be5a290ed",
   "metadata": {},
   "outputs": [
    {
     "data": {
      "text/plain": [
       "True"
      ]
     },
     "execution_count": 8,
     "metadata": {},
     "output_type": "execute_result"
    }
   ],
   "source": [
    "1<2"
   ]
  },
  {
   "cell_type": "code",
   "execution_count": 9,
   "id": "e7f4bf08-e956-49f4-8a32-93d1611ba1ec",
   "metadata": {},
   "outputs": [
    {
     "data": {
      "text/plain": [
       "False"
      ]
     },
     "execution_count": 9,
     "metadata": {},
     "output_type": "execute_result"
    }
   ],
   "source": [
    "4>9"
   ]
  },
  {
   "cell_type": "code",
   "execution_count": 10,
   "id": "15bcf522-b3fe-4740-859a-c0171f0610b4",
   "metadata": {},
   "outputs": [
    {
     "data": {
      "text/plain": [
       "False"
      ]
     },
     "execution_count": 10,
     "metadata": {},
     "output_type": "execute_result"
    }
   ],
   "source": [
    "6<3\n"
   ]
  },
  {
   "cell_type": "code",
   "execution_count": 11,
   "id": "dfc76b9e-6439-44c2-be61-7d1b127240d1",
   "metadata": {},
   "outputs": [
    {
     "data": {
      "text/plain": [
       "True"
      ]
     },
     "execution_count": 11,
     "metadata": {},
     "output_type": "execute_result"
    }
   ],
   "source": [
    "1==1"
   ]
  },
  {
   "cell_type": "code",
   "execution_count": 13,
   "id": "96e4fabe-2c51-4745-943e-a7934b3dff0e",
   "metadata": {},
   "outputs": [
    {
     "data": {
      "text/plain": [
       "False"
      ]
     },
     "execution_count": 13,
     "metadata": {},
     "output_type": "execute_result"
    }
   ],
   "source": [
    "1==4\n"
   ]
  },
  {
   "cell_type": "code",
   "execution_count": 14,
   "id": "234db97e-973c-4f45-bafb-6e1c524c2262",
   "metadata": {},
   "outputs": [
    {
     "data": {
      "text/plain": [
       "False"
      ]
     },
     "execution_count": 14,
     "metadata": {},
     "output_type": "execute_result"
    }
   ],
   "source": [
    "4==5"
   ]
  },
  {
   "cell_type": "code",
   "execution_count": 15,
   "id": "86f431e0-b2b5-40a5-b7fe-34e2c40cee69",
   "metadata": {},
   "outputs": [
    {
     "data": {
      "text/plain": [
       "False"
      ]
     },
     "execution_count": 15,
     "metadata": {},
     "output_type": "execute_result"
    }
   ],
   "source": [
    "33==4"
   ]
  },
  {
   "cell_type": "code",
   "execution_count": 16,
   "id": "8789f68f-f17a-4150-9bec-f4c2b24e724a",
   "metadata": {},
   "outputs": [
    {
     "data": {
      "text/plain": [
       "True"
      ]
     },
     "execution_count": 16,
     "metadata": {},
     "output_type": "execute_result"
    }
   ],
   "source": [
    "4==4"
   ]
  },
  {
   "cell_type": "code",
   "execution_count": 17,
   "id": "2156743d-0ced-40b9-a03b-aa46e90b0c17",
   "metadata": {},
   "outputs": [
    {
     "data": {
      "text/plain": [
       "True"
      ]
     },
     "execution_count": 17,
     "metadata": {},
     "output_type": "execute_result"
    }
   ],
   "source": [
    "2<=2"
   ]
  },
  {
   "cell_type": "code",
   "execution_count": 18,
   "id": "f0789060-40d5-4632-a5bf-07171248aa3e",
   "metadata": {},
   "outputs": [
    {
     "data": {
      "text/plain": [
       "True"
      ]
     },
     "execution_count": 18,
     "metadata": {},
     "output_type": "execute_result"
    }
   ],
   "source": [
    "3<9\n"
   ]
  },
  {
   "cell_type": "code",
   "execution_count": 19,
   "id": "b5d9660d-f8c3-4a93-9cb3-225f62c778ec",
   "metadata": {},
   "outputs": [
    {
     "data": {
      "text/plain": [
       "True"
      ]
     },
     "execution_count": 19,
     "metadata": {},
     "output_type": "execute_result"
    }
   ],
   "source": [
    "True and True"
   ]
  },
  {
   "cell_type": "code",
   "execution_count": 20,
   "id": "254c9da4-a3ce-4728-bc0f-6af2fedf9a03",
   "metadata": {},
   "outputs": [
    {
     "data": {
      "text/plain": [
       "False"
      ]
     },
     "execution_count": 20,
     "metadata": {},
     "output_type": "execute_result"
    }
   ],
   "source": [
    "True and False"
   ]
  },
  {
   "cell_type": "code",
   "execution_count": 21,
   "id": "9d4be98e-f21b-445e-975d-625ef40a463b",
   "metadata": {},
   "outputs": [
    {
     "data": {
      "text/plain": [
       "True"
      ]
     },
     "execution_count": 21,
     "metadata": {},
     "output_type": "execute_result"
    }
   ],
   "source": [
    "True or False"
   ]
  },
  {
   "cell_type": "code",
   "execution_count": 22,
   "id": "6d402be0-4af2-409e-9ccb-56263eae0250",
   "metadata": {},
   "outputs": [
    {
     "data": {
      "text/plain": [
       "0"
      ]
     },
     "execution_count": 22,
     "metadata": {},
     "output_type": "execute_result"
    }
   ],
   "source": [
    "1 and 0\n"
   ]
  },
  {
   "cell_type": "code",
   "execution_count": 23,
   "id": "eb770776-c6ff-43d9-af69-86b3614a7ac8",
   "metadata": {},
   "outputs": [
    {
     "data": {
      "text/plain": [
       "0"
      ]
     },
     "execution_count": 23,
     "metadata": {},
     "output_type": "execute_result"
    }
   ],
   "source": [
    "0 and 0"
   ]
  },
  {
   "cell_type": "code",
   "execution_count": 24,
   "id": "112ad7d6-eea7-4b53-a215-069f07a75851",
   "metadata": {},
   "outputs": [],
   "source": [
    "#bitwise Operater"
   ]
  },
  {
   "cell_type": "code",
   "execution_count": 25,
   "id": "9c63addb-d6f0-4a44-811c-50a690a9401c",
   "metadata": {},
   "outputs": [
    {
     "data": {
      "text/plain": [
       "'0b1010'"
      ]
     },
     "execution_count": 25,
     "metadata": {},
     "output_type": "execute_result"
    }
   ],
   "source": [
    "bin(10)"
   ]
  },
  {
   "cell_type": "code",
   "execution_count": 26,
   "id": "883f4684-90bc-4043-ae9b-6e9477c57ca8",
   "metadata": {},
   "outputs": [
    {
     "data": {
      "text/plain": [
       "'0b1'"
      ]
     },
     "execution_count": 26,
     "metadata": {},
     "output_type": "execute_result"
    }
   ],
   "source": [
    "bin(1)"
   ]
  },
  {
   "cell_type": "code",
   "execution_count": 27,
   "id": "17dcc59d-aa39-4c1f-9ff0-f5c9c1fbbb95",
   "metadata": {},
   "outputs": [
    {
     "data": {
      "text/plain": [
       "'0b100'"
      ]
     },
     "execution_count": 27,
     "metadata": {},
     "output_type": "execute_result"
    }
   ],
   "source": [
    "bin(4)"
   ]
  },
  {
   "cell_type": "code",
   "execution_count": 28,
   "id": "6f23dc50-d520-48dc-a072-d94a1ad160a8",
   "metadata": {},
   "outputs": [
    {
     "data": {
      "text/plain": [
       "20"
      ]
     },
     "execution_count": 28,
     "metadata": {},
     "output_type": "execute_result"
    }
   ],
   "source": [
    "23 & 20"
   ]
  },
  {
   "cell_type": "code",
   "execution_count": 29,
   "id": "67ede5b8-a0a0-491d-a8bd-298ab5e0ca5e",
   "metadata": {},
   "outputs": [
    {
     "data": {
      "text/plain": [
       "'0b10111'"
      ]
     },
     "execution_count": 29,
     "metadata": {},
     "output_type": "execute_result"
    }
   ],
   "source": [
    "bin(23)"
   ]
  },
  {
   "cell_type": "code",
   "execution_count": 30,
   "id": "a5698205-9b9d-4890-9295-27af30259a03",
   "metadata": {},
   "outputs": [
    {
     "data": {
      "text/plain": [
       "'0b10100'"
      ]
     },
     "execution_count": 30,
     "metadata": {},
     "output_type": "execute_result"
    }
   ],
   "source": [
    "bin(20)"
   ]
  },
  {
   "cell_type": "code",
   "execution_count": 31,
   "id": "2018997f-47b3-43b2-bec0-7e3600e1963d",
   "metadata": {},
   "outputs": [
    {
     "data": {
      "text/plain": [
       "'0b10100'"
      ]
     },
     "execution_count": 31,
     "metadata": {},
     "output_type": "execute_result"
    }
   ],
   "source": [
    "bin(23) and bin(20)"
   ]
  },
  {
   "cell_type": "code",
   "execution_count": 32,
   "id": "a202fcfc-efe9-460e-928d-492c14dbd556",
   "metadata": {},
   "outputs": [
    {
     "data": {
      "text/plain": [
       "15"
      ]
     },
     "execution_count": 32,
     "metadata": {},
     "output_type": "execute_result"
    }
   ],
   "source": [
    "11| 6"
   ]
  },
  {
   "cell_type": "code",
   "execution_count": 33,
   "id": "2d907756-6f64-4643-b590-66d1b570ecff",
   "metadata": {},
   "outputs": [
    {
     "data": {
      "text/plain": [
       "-13"
      ]
     },
     "execution_count": 33,
     "metadata": {},
     "output_type": "execute_result"
    }
   ],
   "source": [
    "~12"
   ]
  },
  {
   "cell_type": "code",
   "execution_count": 34,
   "id": "c07621f4-06b0-4a9d-b9cf-1fb4c1e0b1ee",
   "metadata": {},
   "outputs": [
    {
     "data": {
      "text/plain": [
       "'0b1100'"
      ]
     },
     "execution_count": 34,
     "metadata": {},
     "output_type": "execute_result"
    }
   ],
   "source": [
    "bin(12)"
   ]
  },
  {
   "cell_type": "code",
   "execution_count": 35,
   "id": "c9570d7c-6e14-4a8f-ac4d-defac83625e5",
   "metadata": {},
   "outputs": [
    {
     "data": {
      "text/plain": [
       "'0b1101'"
      ]
     },
     "execution_count": 35,
     "metadata": {},
     "output_type": "execute_result"
    }
   ],
   "source": [
    "bin(13)"
   ]
  },
  {
   "cell_type": "code",
   "execution_count": 36,
   "id": "1f5fba5c-f5ca-474a-bf6d-fad8a06cc38e",
   "metadata": {},
   "outputs": [
    {
     "data": {
      "text/plain": [
       "-13"
      ]
     },
     "execution_count": 36,
     "metadata": {},
     "output_type": "execute_result"
    }
   ],
   "source": [
    "~12"
   ]
  },
  {
   "cell_type": "code",
   "execution_count": 38,
   "id": "2d96f726-2d21-4afb-8d61-395e54e0911a",
   "metadata": {},
   "outputs": [],
   "source": [
    "a = 8"
   ]
  },
  {
   "cell_type": "code",
   "execution_count": 39,
   "id": "51e69ec8-9586-427d-8edf-bb4e3b10313b",
   "metadata": {},
   "outputs": [
    {
     "data": {
      "text/plain": [
       "0"
      ]
     },
     "execution_count": 39,
     "metadata": {},
     "output_type": "execute_result"
    }
   ],
   "source": [
    "a>> 4"
   ]
  },
  {
   "cell_type": "code",
   "execution_count": 40,
   "id": "985bfb9f-d879-45c0-bd32-14b7ba0851ac",
   "metadata": {},
   "outputs": [
    {
     "data": {
      "text/plain": [
       "1"
      ]
     },
     "execution_count": 40,
     "metadata": {},
     "output_type": "execute_result"
    }
   ],
   "source": [
    "a >> 3"
   ]
  },
  {
   "cell_type": "code",
   "execution_count": 41,
   "id": "654d9ebe-b469-4c93-aa06-2d25cd3b4d45",
   "metadata": {},
   "outputs": [
    {
     "data": {
      "text/plain": [
       "0"
      ]
     },
     "execution_count": 41,
     "metadata": {},
     "output_type": "execute_result"
    }
   ],
   "source": [
    "a >> 12"
   ]
  },
  {
   "cell_type": "code",
   "execution_count": 42,
   "id": "340b503b-a1bf-451d-94d2-a999175ea889",
   "metadata": {},
   "outputs": [
    {
     "data": {
      "text/plain": [
       "2"
      ]
     },
     "execution_count": 42,
     "metadata": {},
     "output_type": "execute_result"
    }
   ],
   "source": [
    "a >> 2"
   ]
  },
  {
   "cell_type": "code",
   "execution_count": 43,
   "id": "827c8167-1e11-4f7b-a4b3-366e4ac250bc",
   "metadata": {},
   "outputs": [
    {
     "data": {
      "text/plain": [
       "10"
      ]
     },
     "execution_count": 43,
     "metadata": {},
     "output_type": "execute_result"
    }
   ],
   "source": [
    "20 >> 1"
   ]
  },
  {
   "cell_type": "code",
   "execution_count": 45,
   "id": "ade0efcb-ea16-4bb5-9d08-4b4eeee475a8",
   "metadata": {},
   "outputs": [
    {
     "data": {
      "text/plain": [
       "5"
      ]
     },
     "execution_count": 45,
     "metadata": {},
     "output_type": "execute_result"
    }
   ],
   "source": [
    "20>> 2"
   ]
  },
  {
   "cell_type": "code",
   "execution_count": 46,
   "id": "206dfa9a-de86-431b-ac4c-6ceec8674cfb",
   "metadata": {},
   "outputs": [
    {
     "data": {
      "text/plain": [
       "2"
      ]
     },
     "execution_count": 46,
     "metadata": {},
     "output_type": "execute_result"
    }
   ],
   "source": [
    "20>>3"
   ]
  },
  {
   "cell_type": "code",
   "execution_count": 47,
   "id": "774be6f2-e842-4fe1-9857-64e03d414965",
   "metadata": {},
   "outputs": [
    {
     "data": {
      "text/plain": [
       "1"
      ]
     },
     "execution_count": 47,
     "metadata": {},
     "output_type": "execute_result"
    }
   ],
   "source": [
    "20>>4"
   ]
  },
  {
   "cell_type": "code",
   "execution_count": 48,
   "id": "82889d1f-7568-45b9-a31a-7403f80ec107",
   "metadata": {},
   "outputs": [
    {
     "data": {
      "text/plain": [
       "'0b10100'"
      ]
     },
     "execution_count": 48,
     "metadata": {},
     "output_type": "execute_result"
    }
   ],
   "source": [
    "bin(20)"
   ]
  },
  {
   "cell_type": "code",
   "execution_count": 49,
   "id": "30cddf36-2ecc-4155-b423-5d4aa5f22002",
   "metadata": {},
   "outputs": [],
   "source": [
    " a= 10"
   ]
  },
  {
   "cell_type": "code",
   "execution_count": 50,
   "id": "7d037101-23f7-4919-aa52-96b3755aa384",
   "metadata": {},
   "outputs": [
    {
     "data": {
      "text/plain": [
       "10"
      ]
     },
     "execution_count": 50,
     "metadata": {},
     "output_type": "execute_result"
    }
   ],
   "source": [
    "a"
   ]
  },
  {
   "cell_type": "code",
   "execution_count": 51,
   "id": "036b6983-8fce-49de-987b-850b93f8fa6b",
   "metadata": {},
   "outputs": [],
   "source": [
    "a += 10"
   ]
  },
  {
   "cell_type": "code",
   "execution_count": 52,
   "id": "cb1bb220-bfbb-4ec6-a59a-008236d8ea4a",
   "metadata": {},
   "outputs": [
    {
     "data": {
      "text/plain": [
       "20"
      ]
     },
     "execution_count": 52,
     "metadata": {},
     "output_type": "execute_result"
    }
   ],
   "source": [
    "a"
   ]
  },
  {
   "cell_type": "code",
   "execution_count": 53,
   "id": "fb504094-3d0b-4707-9c07-e05e67deccd4",
   "metadata": {},
   "outputs": [
    {
     "data": {
      "text/plain": [
       "20"
      ]
     },
     "execution_count": 53,
     "metadata": {},
     "output_type": "execute_result"
    }
   ],
   "source": [
    "a"
   ]
  },
  {
   "cell_type": "code",
   "execution_count": 54,
   "id": "edc6a248-7cfe-4037-b7e3-373b5bea90ca",
   "metadata": {},
   "outputs": [
    {
     "data": {
      "text/plain": [
       "40"
      ]
     },
     "execution_count": 54,
     "metadata": {},
     "output_type": "execute_result"
    }
   ],
   "source": [
    "20 +a"
   ]
  },
  {
   "cell_type": "code",
   "execution_count": 55,
   "id": "391f1507-d96d-442c-b17b-d0444669d578",
   "metadata": {},
   "outputs": [],
   "source": [
    "a += 20"
   ]
  },
  {
   "cell_type": "code",
   "execution_count": 56,
   "id": "753e615e-55f0-4189-b57f-23cf09c8a09e",
   "metadata": {},
   "outputs": [
    {
     "data": {
      "text/plain": [
       "40"
      ]
     },
     "execution_count": 56,
     "metadata": {},
     "output_type": "execute_result"
    }
   ],
   "source": [
    "a "
   ]
  },
  {
   "cell_type": "code",
   "execution_count": 59,
   "id": "186540d4-7522-416a-8490-135acc9ecf47",
   "metadata": {},
   "outputs": [],
   "source": [
    "c =20"
   ]
  },
  {
   "cell_type": "code",
   "execution_count": 62,
   "id": "54a7ae05-afc7-4b68-a314-21a631515029",
   "metadata": {},
   "outputs": [],
   "source": [
    "c -= 10"
   ]
  },
  {
   "cell_type": "code",
   "execution_count": 63,
   "id": "8b6d1687-befe-4022-bf0a-f860611af7a4",
   "metadata": {},
   "outputs": [
    {
     "data": {
      "text/plain": [
       "-10"
      ]
     },
     "execution_count": 63,
     "metadata": {},
     "output_type": "execute_result"
    }
   ],
   "source": [
    "c"
   ]
  },
  {
   "cell_type": "code",
   "execution_count": 64,
   "id": "2d6ad41f-2888-4de4-9c94-b52d3ac14189",
   "metadata": {},
   "outputs": [],
   "source": [
    "a= 10"
   ]
  },
  {
   "cell_type": "code",
   "execution_count": null,
   "id": "92ad920f-6c71-4e87-b49c-73879e0c3f91",
   "metadata": {},
   "outputs": [],
   "source": []
  },
  {
   "cell_type": "code",
   "execution_count": null,
   "id": "b020c537-8d5e-4f55-bbdf-b82b2ec5c8d4",
   "metadata": {},
   "outputs": [],
   "source": []
  }
 ],
 "metadata": {
  "kernelspec": {
   "display_name": "Python 3 (ipykernel)",
   "language": "python",
   "name": "python3"
  },
  "language_info": {
   "codemirror_mode": {
    "name": "ipython",
    "version": 3
   },
   "file_extension": ".py",
   "mimetype": "text/x-python",
   "name": "python",
   "nbconvert_exporter": "python",
   "pygments_lexer": "ipython3",
   "version": "3.10.8"
  }
 },
 "nbformat": 4,
 "nbformat_minor": 5
}
