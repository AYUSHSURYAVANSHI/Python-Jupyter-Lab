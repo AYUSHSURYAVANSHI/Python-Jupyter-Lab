{
 "cells": [
  {
   "cell_type": "code",
   "execution_count": 13,
   "id": "5bccd584-1d40-4534-b022-b24e1094d416",
   "metadata": {},
   "outputs": [],
   "source": [
    "student_ids =['S01','S02','S03','S04','S05']\n",
    "gender =['M','F','F','M','F']\n",
    "dept =['CS','ECE','ME','CS','ME']\n",
    "sessional_perc =[45,60,73,65,3,71.9]\n",
    "total_marks =[680,800,520,650,789]\n",
    "backlogs =['NB','B','NB','NB','NB']"
   ]
  },
  {
   "cell_type": "code",
   "execution_count": 14,
   "id": "f8bb19ef-ef0a-4386-b65f-18175ca459a0",
   "metadata": {},
   "outputs": [
    {
     "data": {
      "text/plain": [
       "[0, 1, 2, 3, 4]"
      ]
     },
     "execution_count": 14,
     "metadata": {},
     "output_type": "execute_result"
    }
   ],
   "source": [
    "list(range(5))"
   ]
  },
  {
   "cell_type": "code",
   "execution_count": 15,
   "id": "93fb10f8-72ac-445e-abde-c7b6eacc3190",
   "metadata": {},
   "outputs": [
    {
     "data": {
      "text/plain": [
       "60"
      ]
     },
     "execution_count": 15,
     "metadata": {},
     "output_type": "execute_result"
    }
   ],
   "source": [
    "sessional_perc[1]"
   ]
  },
  {
   "cell_type": "code",
   "execution_count": 16,
   "id": "72fcb12b-1eba-4ba6-9c7e-e8010106cc18",
   "metadata": {},
   "outputs": [
    {
     "name": "stdout",
     "output_type": "stream",
     "text": [
      "Marks did not change\n",
      "Marks did not change\n",
      "Marks did not change\n",
      "Marks did not change\n"
     ]
    }
   ],
   "source": [
    "for i in range(len(student_ids)):\n",
    "    if sessional_perc[i] >70:\n",
    "        total_marks[i] = total_marks[i] + total_marks[i]*0.02\n",
    "    else:\n",
    "        print(\"Marks did not change\")"
   ]
  },
  {
   "cell_type": "markdown",
   "id": "769b1907-465d-4d2a-9505-1f39d7c75edf",
   "metadata": {},
   "source": [
    "### S01 and S04 have got Backlog and we need to update them "
   ]
  },
  {
   "cell_type": "code",
   "execution_count": 56,
   "id": "d270781d-a399-468d-ba2a-94d272f97d8c",
   "metadata": {},
   "outputs": [
    {
     "name": "stdout",
     "output_type": "stream",
     "text": [
      "0\n",
      "1\n",
      "2\n",
      "3\n",
      "4\n"
     ]
    }
   ],
   "source": [
    "updated_students = ['S01','S04']\n",
    "\n",
    "for i in range(len(student_ids)):\n",
    "    print(i)\n",
    "    if student_ids[i] in updated_students:\n",
    "        backlogs[i] = 'B'\n",
    "        \n",
    "        "
   ]
  },
  {
   "cell_type": "code",
   "execution_count": 19,
   "id": "60189bbe-f766-4172-af12-7aa4e1cb7b1b",
   "metadata": {},
   "outputs": [
    {
     "data": {
      "text/plain": [
       "['B', 'B', 'NB', 'B', 'NB']"
      ]
     },
     "execution_count": 19,
     "metadata": {},
     "output_type": "execute_result"
    }
   ],
   "source": [
    "backlogs"
   ]
  },
  {
   "cell_type": "code",
   "execution_count": 21,
   "id": "4ac619d9-a5f7-48fb-ad00-316cabac7a9d",
   "metadata": {},
   "outputs": [],
   "source": [
    "scholarships = ['No Scholarship' for _ in range(len(student_ids))]\n"
   ]
  },
  {
   "cell_type": "code",
   "execution_count": 22,
   "id": "447e7267-c714-461c-9455-feff271bca15",
   "metadata": {},
   "outputs": [
    {
     "data": {
      "text/plain": [
       "['No Scholership', 'No Scholership', 'No Scholership', 'No Scholership']"
      ]
     },
     "execution_count": 22,
     "metadata": {},
     "output_type": "execute_result"
    }
   ],
   "source": [
    "['No Scholership',\n",
    " 'No Scholership',\n",
    " 'No Scholership',\n",
    " 'No Scholership']"
   ]
  },
  {
   "cell_type": "code",
   "execution_count": 27,
   "id": "e728618e-ad64-44ea-9890-19dbc61ac78e",
   "metadata": {},
   "outputs": [],
   "source": [
    "scholarships = []\n",
    "for _ in range(len(student_ids)):\n",
    "    scholarships.append('No Scolarship')\n"
   ]
  },
  {
   "cell_type": "code",
   "execution_count": 48,
   "id": "47c14a2c-eb63-4721-8e9b-d855e20116dc",
   "metadata": {},
   "outputs": [
    {
     "name": "stdout",
     "output_type": "stream",
     "text": [
      "No scholarship were given\n",
      "No scholarship were given\n",
      "No scholarship were given\n",
      "No scholarship were given\n",
      "No scholarship were given\n"
     ]
    }
   ],
   "source": [
    "for i in range(len(student_ids)):\n",
    "    if dept[i] =='CS' and total_marks[i]> 750 and backlogs[i] == 'NB' :\n",
    "        scholarships[i] = 'High Achiver Scholership'\n",
    "        print(f\"High Achiever Scholership awarded  to {student_ids[i]}\")\n",
    "    elif backlogs[i] == 'NB' and (650<total_marks[i]<=720):\n",
    "              scholarship[i] = 'Achiever Scholarship'\n",
    "    else:\n",
    "         print(\"No scholarship were given\")"
   ]
  },
  {
   "cell_type": "code",
   "execution_count": 49,
   "id": "16a289fc-3332-4c95-8597-7660fe302aa2",
   "metadata": {},
   "outputs": [],
   "source": [
    "a = 10\n",
    "b = 5\n",
    "\n",
    "c = a+b\n"
   ]
  },
  {
   "cell_type": "code",
   "execution_count": 69,
   "id": "e635d2d5-d88f-45fd-a4e8-65ab3d300d2a",
   "metadata": {},
   "outputs": [
    {
     "data": {
      "text/plain": [
       "['No Scolarship',\n",
       " 'No Scolarship',\n",
       " 'No Scolarship',\n",
       " 'No Scolarship',\n",
       " 'No Scolarship']"
      ]
     },
     "execution_count": 69,
     "metadata": {},
     "output_type": "execute_result"
    }
   ],
   "source": [
    "scholarships"
   ]
  },
  {
   "cell_type": "code",
   "execution_count": 67,
   "id": "74803b8a-9a2f-4edb-9a04-0459e4f54f21",
   "metadata": {},
   "outputs": [
    {
     "name": "stdout",
     "output_type": "stream",
     "text": [
      "the sum of 10 and 5 is 15\n"
     ]
    }
   ],
   "source": [
    "print(f\"the sum of {a} and {b} is {c}\")"
   ]
  },
  {
   "cell_type": "code",
   "execution_count": 68,
   "id": "f4239737-76c6-4bec-ad8a-1844f79ca112",
   "metadata": {},
   "outputs": [],
   "source": [
    "std_db ={\n",
    "    'student ID' : student_ids,\n",
    "    'Gender' : gender,\n",
    "    'Department' : dept,\n",
    "    'Sessional perc' : sessional_perc,\n",
    "    'total_marks' : total_marks,\n",
    "    'Backlogs' : backlogs,\n",
    "    'Scholarships' : scholarships\n",
    "}\n",
    "    "
   ]
  },
  {
   "cell_type": "code",
   "execution_count": 62,
   "id": "2e0a687c-cb56-4928-89f1-e8136a2a6b01",
   "metadata": {},
   "outputs": [
    {
     "data": {
      "text/plain": [
       "{'student ID': ['S01', 'S02', 'S03', 'S04', 'S05'],\n",
       " 'Gender': ['M', 'F', 'F', 'M', 'F'],\n",
       " 'Department': ['CS', 'ECE', 'ME', 'CS', 'ME'],\n",
       " 'Sessional perc': [45, 60, 73, 65, 3, 71.9],\n",
       " 'total_marks': [680, 800, 530.4, 650, 789],\n",
       " 'Backlogs': ['B', 'B', 'NB', 'B', 'NB'],\n",
       " 'Scholarships': ['No Scolarship',\n",
       "  'No Scolarship',\n",
       "  'No Scolarship',\n",
       "  'No Scolarship',\n",
       "  'No Scolarship']}"
      ]
     },
     "execution_count": 62,
     "metadata": {},
     "output_type": "execute_result"
    }
   ],
   "source": [
    "std_db"
   ]
  },
  {
   "cell_type": "code",
   "execution_count": 61,
   "id": "177d22c2-8357-42c6-837c-fdab7e647e86",
   "metadata": {},
   "outputs": [
    {
     "data": {
      "text/plain": [
       "dict_values([['S01', 'S02', 'S03', 'S04', 'S05'], ['M', 'F', 'F', 'M', 'F'], ['CS', 'ECE', 'ME', 'CS', 'ME'], [45, 60, 73, 65, 3, 71.9], [680, 800, 530.4, 650, 789], ['B', 'B', 'NB', 'B', 'NB'], ['No Scolarship', 'No Scolarship', 'No Scolarship', 'No Scolarship', 'No Scolarship']])"
      ]
     },
     "execution_count": 61,
     "metadata": {},
     "output_type": "execute_result"
    }
   ],
   "source": [
    "std_db.values()"
   ]
  },
  {
   "cell_type": "code",
   "execution_count": 58,
   "id": "ad36180c-5edc-4678-9359-75b25ac71372",
   "metadata": {},
   "outputs": [
    {
     "data": {
      "text/plain": [
       "dict_items([('student ID', ['S01', 'S02', 'S03', 'S04', 'S05']), ('Gender', ['M', 'F', 'F', 'M', 'F']), ('Department', ['CS', 'ECE', 'ME', 'CS', 'ME']), ('Sessional perc', [45, 60, 73, 65, 3, 71.9])])"
      ]
     },
     "execution_count": 58,
     "metadata": {},
     "output_type": "execute_result"
    }
   ],
   "source": [
    "std_db.items()"
   ]
  },
  {
   "cell_type": "code",
   "execution_count": 63,
   "id": "b9752069-6c97-4c94-bd88-38892a915b70",
   "metadata": {},
   "outputs": [
    {
     "data": {
      "text/plain": [
       "dict_keys(['student ID', 'Gender', 'Department', 'Sessional perc', 'total_marks', 'Backlogs', 'Scholarships'])"
      ]
     },
     "execution_count": 63,
     "metadata": {},
     "output_type": "execute_result"
    }
   ],
   "source": [
    "std_db.keys()"
   ]
  },
  {
   "cell_type": "code",
   "execution_count": 66,
   "id": "cf09d494-2bae-4569-974f-ac7985f20205",
   "metadata": {},
   "outputs": [
    {
     "name": "stdout",
     "output_type": "stream",
     "text": [
      "S03\n",
      "F\n",
      "ME\n",
      "73\n",
      "530.4\n",
      "NB\n",
      "No Scolarship\n"
     ]
    }
   ],
   "source": [
    "for k,v in std_db.items():\n",
    "    print()"
   ]
  },
  {
   "cell_type": "code",
   "execution_count": null,
   "id": "7925e569-866e-4162-b2b1-68e3df2f4903",
   "metadata": {},
   "outputs": [],
   "source": []
  }
 ],
 "metadata": {
  "kernelspec": {
   "display_name": "Python 3 (ipykernel)",
   "language": "python",
   "name": "python3"
  },
  "language_info": {
   "codemirror_mode": {
    "name": "ipython",
    "version": 3
   },
   "file_extension": ".py",
   "mimetype": "text/x-python",
   "name": "python",
   "nbconvert_exporter": "python",
   "pygments_lexer": "ipython3",
   "version": "3.10.8"
  }
 },
 "nbformat": 4,
 "nbformat_minor": 5
}
