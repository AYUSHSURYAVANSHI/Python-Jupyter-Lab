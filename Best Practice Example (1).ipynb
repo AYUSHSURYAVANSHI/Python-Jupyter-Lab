{
 "cells": [
  {
   "cell_type": "code",
   "execution_count": 1,
   "id": "04e6c0cc-717e-44fb-8067-f096ab7fb9a6",
   "metadata": {},
   "outputs": [
    {
     "name": "stdout",
     "output_type": "stream",
     "text": [
      "division by zero\n"
     ]
    }
   ],
   "source": [
    " # use always a specific exception\n",
    "try:\n",
    "    10/0\n",
    "except Exception as e :\n",
    "    print(e)"
   ]
  },
  {
   "cell_type": "code",
   "execution_count": 5,
   "id": "540dba5f-bcba-4a05-939b-ef8b33ec2363",
   "metadata": {},
   "outputs": [
    {
     "name": "stdout",
     "output_type": "stream",
     "text": [
      " I am trying to handle a zerodivition Error division by zero\n"
     ]
    }
   ],
   "source": [
    "# use always a specific exception\n",
    "try:\n",
    "    10/0\n",
    "except ZeroDivisionError as e:\n",
    "    print(\" I am trying to handle a zerodivition Error\", e)"
   ]
  },
  {
   "cell_type": "code",
   "execution_count": null,
   "id": "39d65cab-db7f-4369-bf1b-94dc5dd2f81b",
   "metadata": {},
   "outputs": [],
   "source": [
    "#always try to log your error\n",
    "import logging\n",
    "logging.basicConfig(filename = \"error.log\" , level = logging.ERROR)\n",
    "try:\n",
    "    10/0\n",
    "except ZeroDivisionError as e :\n",
    "    logging.error(\"I am Trying to handle a Zerodivition error\" , e)\n",
    "   \n",
    "                    "
   ]
  },
  {
   "cell_type": "code",
   "execution_count": 11,
   "id": "906c2426-27bc-4cbf-a765-06ec49dccc49",
   "metadata": {},
   "outputs": [],
   "source": [
    "#always avoid to write a multiple handling\n",
    "try :\n",
    "    10/0\n",
    "except FileNotFoundError as e :\n",
    "    logging.error(\"I am handling file not found error\")\n",
    "except AttributeError as e :\n",
    "    logging.error(\"I am handling Attribute Error\")\n",
    "except ZeroDivisionError as e:\n",
    "    logging.error(\"I am Trying to handle a Zerodivition error\")"
   ]
  },
  {
   "cell_type": "code",
   "execution_count": 1,
   "id": "73dfe8c5-528f-45fb-af43-22aec752dfa1",
   "metadata": {},
   "outputs": [],
   "source": [
    "# documnent all the Error \n",
    "# clean up all the Resources\n",
    "try:\n",
    "    with open(\"text.txt\" , 'w') as f:\n",
    "        f.write(\"this is my data to file\")\n",
    "except FileNotFoundError as e :\n",
    "    logging.error(\"I am Handling file not found error\")\n",
    "finally :\n",
    "    f.close()"
   ]
  },
  {
   "cell_type": "code",
   "execution_count": null,
   "id": "ece96f67-928d-4963-8775-f55cf81289dd",
   "metadata": {},
   "outputs": [],
   "source": []
  }
 ],
 "metadata": {
  "kernelspec": {
   "display_name": "Python 3 (ipykernel)",
   "language": "python",
   "name": "python3"
  },
  "language_info": {
   "codemirror_mode": {
    "name": "ipython",
    "version": 3
   },
   "file_extension": ".py",
   "mimetype": "text/x-python",
   "name": "python",
   "nbconvert_exporter": "python",
   "pygments_lexer": "ipython3",
   "version": "3.10.8"
  }
 },
 "nbformat": 4,
 "nbformat_minor": 5
}
