{
 "cells": [
  {
   "cell_type": "code",
   "execution_count": 26,
   "id": "37213f16-fe57-45d7-ba46-31669315f7e6",
   "metadata": {},
   "outputs": [],
   "source": [
    "def test():\n",
    "    print(\"this is the start of the code\")    \n",
    "    print(\"this is my fun to test\")"
   ]
  },
  {
   "cell_type": "code",
   "execution_count": 27,
   "id": "4f4c8709-b085-4cd8-b20f-fb17c3c11a98",
   "metadata": {},
   "outputs": [
    {
     "name": "stdout",
     "output_type": "stream",
     "text": [
      "this is the start of the code\n",
      "this is my fun to test\n"
     ]
    }
   ],
   "source": [
    "test()"
   ]
  },
  {
   "cell_type": "code",
   "execution_count": 34,
   "id": "4e0c8e24-5777-4759-84fd-e527ab187f0e",
   "metadata": {},
   "outputs": [],
   "source": [
    "def deco(func):\n",
    "    def inner_dec():\n",
    "        print(\"this is the start of my fun\")\n",
    "        func()\n",
    "        print(\"this is a last code\")\n",
    "    return inner_dec"
   ]
  },
  {
   "cell_type": "code",
   "execution_count": 35,
   "id": "822dc0c9-0f0c-490a-bec4-63c5548e9b22",
   "metadata": {},
   "outputs": [],
   "source": [
    "@deco\n",
    "def test2():\n",
    "    print(5+3)"
   ]
  },
  {
   "cell_type": "code",
   "execution_count": 45,
   "id": "8cafaa03-c433-4a66-99aa-03812d43566d",
   "metadata": {},
   "outputs": [
    {
     "name": "stdout",
     "output_type": "stream",
     "text": [
      "79\n"
     ]
    }
   ],
   "source": [
    "test2()\n"
   ]
  },
  {
   "cell_type": "code",
   "execution_count": 53,
   "id": "edf483f8-b87e-4538-951d-0c7a63985a1d",
   "metadata": {},
   "outputs": [],
   "source": [
    "import time \n",
    "def timer_test(func):\n",
    "    def timer_test_inner():\n",
    "        start = time.time()\n",
    "        func()\n",
    "        end = time.time()\n",
    "        print(end - start)\n",
    "    return timer_test_inner"
   ]
  },
  {
   "cell_type": "code",
   "execution_count": 57,
   "id": "01d333a3-3e8f-4fb1-852e-cfb870ae40cb",
   "metadata": {},
   "outputs": [],
   "source": [
    "@timer_test\n",
    "def test3():\n",
    "    print(34+45)"
   ]
  },
  {
   "cell_type": "code",
   "execution_count": 58,
   "id": "748fc7eb-173a-41a2-aef9-179ff6a721da",
   "metadata": {},
   "outputs": [
    {
     "name": "stdout",
     "output_type": "stream",
     "text": [
      "79\n",
      "4.315376281738281e-05\n"
     ]
    }
   ],
   "source": [
    "test3()"
   ]
  },
  {
   "cell_type": "code",
   "execution_count": 59,
   "id": "51a233f2-70e0-4565-9689-3f0d1732e179",
   "metadata": {},
   "outputs": [],
   "source": [
    "@timer_test\n",
    "def test():\n",
    "    for i in range(100000):\n",
    "        pass"
   ]
  },
  {
   "cell_type": "code",
   "execution_count": 60,
   "id": "9d8474ee-c266-4625-accc-1f63fbf2f75e",
   "metadata": {},
   "outputs": [
    {
     "name": "stdout",
     "output_type": "stream",
     "text": [
      "0.0019562244415283203\n"
     ]
    }
   ],
   "source": [
    "test()"
   ]
  },
  {
   "cell_type": "code",
   "execution_count": null,
   "id": "238b9d5c-7b0b-47f7-b055-64cb2ac02b9e",
   "metadata": {},
   "outputs": [],
   "source": []
  }
 ],
 "metadata": {
  "kernelspec": {
   "display_name": "Python 3 (ipykernel)",
   "language": "python",
   "name": "python3"
  },
  "language_info": {
   "codemirror_mode": {
    "name": "ipython",
    "version": 3
   },
   "file_extension": ".py",
   "mimetype": "text/x-python",
   "name": "python",
   "nbconvert_exporter": "python",
   "pygments_lexer": "ipython3",
   "version": "3.10.8"
  }
 },
 "nbformat": 4,
 "nbformat_minor": 5
}
