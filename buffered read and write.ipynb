{
 "cells": [
  {
   "cell_type": "code",
   "execution_count": 1,
   "id": "476341b0-7820-4da5-ad3f-bff789334362",
   "metadata": {},
   "outputs": [],
   "source": [
    "import io"
   ]
  },
  {
   "cell_type": "code",
   "execution_count": 4,
   "id": "eb95b768-a495-4263-b04f-fd3d3daff6af",
   "metadata": {},
   "outputs": [],
   "source": [
    "with open(\"test1.txt\" , \"wb\") as f:\n",
    "    file = io.BufferedWriter(f)\n",
    "    file.write(b\"Data Science Masters course is highly curated and uniquely designed according to the latest industry standards. This program instills students the skills essential to knowledge discovery efforts to identify standard, novel, and truly differentiated solutions and decision-making, including skills in managing, querying, analyzing, visualizing, and extracting meaning from extremely large data sets. This trending program provides students with the statistical, mathematical, and computational skills needed to meet the large-scale data science challenges of today's professional world. You will learn all the stack required to work in data science, data analytics, and big data industry including cloud infrastructure and real-time industry projects.What you'll learn\")\n",
    "    file.flush()"
   ]
  },
  {
   "cell_type": "code",
   "execution_count": 6,
   "id": "f7952cf2-41ae-472d-b1be-ca053c7d013f",
   "metadata": {},
   "outputs": [
    {
     "name": "stdout",
     "output_type": "stream",
     "text": [
      "b\"Data Science Masters course is highly curated and uniquely designed according to the latest industry standards. This program instills students the skills essential to knowledge discovery efforts to identify standard, novel, and truly differentiated solutions and decision-making, including skills in managing, querying, analyzing, visualizing, and extracting meaning from extremely large data sets. This trending program provides students with the statistical, mathematical, and computational skills needed to meet the large-scale data science challenges of today's professional world. You will learn all the stack required to work in data science, data analytics, and big data industry including cloud infrastructure and real-time industry projects.What you'll learn\"\n"
     ]
    }
   ],
   "source": [
    "with open(\"test1.txt\" , \"rb\") as f :\n",
    "    \n",
    "    file = io.BufferedReader(f)\n",
    "    data = file.read(1000)\n",
    "    print(data)"
   ]
  },
  {
   "cell_type": "code",
   "execution_count": null,
   "id": "974b1bae-dd32-4b99-a813-71dffded2312",
   "metadata": {},
   "outputs": [],
   "source": []
  }
 ],
 "metadata": {
  "kernelspec": {
   "display_name": "Python 3 (ipykernel)",
   "language": "python",
   "name": "python3"
  },
  "language_info": {
   "codemirror_mode": {
    "name": "ipython",
    "version": 3
   },
   "file_extension": ".py",
   "mimetype": "text/x-python",
   "name": "python",
   "nbconvert_exporter": "python",
   "pygments_lexer": "ipython3",
   "version": "3.10.8"
  }
 },
 "nbformat": 4,
 "nbformat_minor": 5
}
