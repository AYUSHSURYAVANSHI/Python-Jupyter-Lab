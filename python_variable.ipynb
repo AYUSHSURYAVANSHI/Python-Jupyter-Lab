{
 "cells": [
  {
   "cell_type": "code",
   "execution_count": 2,
   "id": "8bb6a662-24dc-4525-badb-e6757fed750d",
   "metadata": {},
   "outputs": [],
   "source": [
    "a = 1"
   ]
  },
  {
   "cell_type": "code",
   "execution_count": 4,
   "id": "e3b0defe-71bd-43b5-ab91-125c1034ade5",
   "metadata": {},
   "outputs": [
    {
     "data": {
      "text/plain": [
       "1"
      ]
     },
     "execution_count": 4,
     "metadata": {},
     "output_type": "execute_result"
    }
   ],
   "source": [
    "a"
   ]
  },
  {
   "cell_type": "code",
   "execution_count": 5,
   "id": "3cc4e3ce-6b1b-4c5a-b74c-b9f2632228fe",
   "metadata": {},
   "outputs": [
    {
     "data": {
      "text/plain": [
       "int"
      ]
     },
     "execution_count": 5,
     "metadata": {},
     "output_type": "execute_result"
    }
   ],
   "source": [
    "type(a)"
   ]
  },
  {
   "cell_type": "code",
   "execution_count": 8,
   "id": "61db21ed-b955-426c-bbe1-d3d1c519a13a",
   "metadata": {},
   "outputs": [],
   "source": [
    "b = \"hello\""
   ]
  },
  {
   "cell_type": "code",
   "execution_count": 9,
   "id": "3ba53b96-214b-45a1-8526-ff9d6b9a9f05",
   "metadata": {},
   "outputs": [
    {
     "data": {
      "text/plain": [
       "str"
      ]
     },
     "execution_count": 9,
     "metadata": {},
     "output_type": "execute_result"
    }
   ],
   "source": [
    "type(b)"
   ]
  },
  {
   "cell_type": "code",
   "execution_count": 12,
   "id": "5bc6cec4-5788-4edf-a14a-4d348df15011",
   "metadata": {},
   "outputs": [],
   "source": [
    "c = 45.678"
   ]
  },
  {
   "cell_type": "code",
   "execution_count": 13,
   "id": "71b9fa80-d43d-49eb-83d3-35747e55e87c",
   "metadata": {},
   "outputs": [
    {
     "data": {
      "text/plain": [
       "float"
      ]
     },
     "execution_count": 13,
     "metadata": {},
     "output_type": "execute_result"
    }
   ],
   "source": [
    "type(c)"
   ]
  },
  {
   "cell_type": "code",
   "execution_count": 17,
   "id": "6584dbfe-c92a-4927-a135-3cd14c5d29d2",
   "metadata": {},
   "outputs": [],
   "source": [
    "d = True"
   ]
  },
  {
   "cell_type": "code",
   "execution_count": 18,
   "id": "83ec4510-83ca-4d36-8234-75f06c4eea61",
   "metadata": {},
   "outputs": [
    {
     "data": {
      "text/plain": [
       "bool"
      ]
     },
     "execution_count": 18,
     "metadata": {},
     "output_type": "execute_result"
    }
   ],
   "source": [
    "type(d)"
   ]
  },
  {
   "cell_type": "code",
   "execution_count": 20,
   "id": "a45a83e5-c17e-4ea3-a4b0-3bd342329100",
   "metadata": {},
   "outputs": [],
   "source": [
    "e = False "
   ]
  },
  {
   "cell_type": "code",
   "execution_count": 21,
   "id": "18762f65-d5aa-4d5c-88a4-0977eeebd1e3",
   "metadata": {},
   "outputs": [
    {
     "data": {
      "text/plain": [
       "bool"
      ]
     },
     "execution_count": 21,
     "metadata": {},
     "output_type": "execute_result"
    }
   ],
   "source": [
    "type(e)"
   ]
  },
  {
   "cell_type": "code",
   "execution_count": null,
   "id": "99bd45a2-2c47-4de9-a1e6-522120667bf4",
   "metadata": {},
   "outputs": [],
   "source": [
    "#True/ False"
   ]
  },
  {
   "cell_type": "code",
   "execution_count": 24,
   "id": "912abc98-d170-4c34-9f4e-32e4c97538f9",
   "metadata": {},
   "outputs": [
    {
     "data": {
      "text/plain": [
       "1"
      ]
     },
     "execution_count": 24,
     "metadata": {},
     "output_type": "execute_result"
    }
   ],
   "source": [
    "True- False"
   ]
  },
  {
   "cell_type": "code",
   "execution_count": 32,
   "id": "a8fcc15f-7647-4b2f-a65f-b46e84488ba3",
   "metadata": {},
   "outputs": [],
   "source": [
    "f = 4+ 5j"
   ]
  },
  {
   "cell_type": "code",
   "execution_count": 33,
   "id": "6d36af87-aef7-46f0-b1e6-1135e3dc0fc9",
   "metadata": {},
   "outputs": [
    {
     "data": {
      "text/plain": [
       "complex"
      ]
     },
     "execution_count": 33,
     "metadata": {},
     "output_type": "execute_result"
    }
   ],
   "source": [
    "type(f)"
   ]
  },
  {
   "cell_type": "code",
   "execution_count": 34,
   "id": "e3719f01-0adb-48ae-9990-695ec796affa",
   "metadata": {},
   "outputs": [],
   "source": [
    "g = 7j"
   ]
  },
  {
   "cell_type": "code",
   "execution_count": 35,
   "id": "e8013d8d-e383-4f4b-a1cd-3cc669f2e787",
   "metadata": {},
   "outputs": [
    {
     "data": {
      "text/plain": [
       "complex"
      ]
     },
     "execution_count": 35,
     "metadata": {},
     "output_type": "execute_result"
    }
   ],
   "source": [
    "type(g)"
   ]
  },
  {
   "cell_type": "code",
   "execution_count": 36,
   "id": "fd452c80-b1d7-47b5-b9a1-75b4faf0cea4",
   "metadata": {},
   "outputs": [],
   "source": [
    "#45=40+5"
   ]
  },
  {
   "cell_type": "code",
   "execution_count": 37,
   "id": "336b8843-90b6-40d6-8861-2e8f9ef0fbf9",
   "metadata": {},
   "outputs": [],
   "source": [
    "_a = 24"
   ]
  },
  {
   "cell_type": "code",
   "execution_count": 38,
   "id": "59a1638b-2e48-43cc-954d-71ebdd9af0df",
   "metadata": {},
   "outputs": [
    {
     "data": {
      "text/plain": [
       "24"
      ]
     },
     "execution_count": 38,
     "metadata": {},
     "output_type": "execute_result"
    }
   ],
   "source": [
    "_a"
   ]
  },
  {
   "cell_type": "code",
   "execution_count": 4,
   "id": "f8ecff4a-7e08-4a41-bcc1-b774695193f1",
   "metadata": {},
   "outputs": [
    {
     "ename": "NameError",
     "evalue": "name 'f' is not defined",
     "output_type": "error",
     "traceback": [
      "\u001b[0;31m---------------------------------------------------------------------------\u001b[0m",
      "\u001b[0;31mNameError\u001b[0m                                 Traceback (most recent call last)",
      "Cell \u001b[0;32mIn[4], line 1\u001b[0m\n\u001b[0;32m----> 1\u001b[0m \u001b[43mf\u001b[49m\n",
      "\u001b[0;31mNameError\u001b[0m: name 'f' is not defined"
     ]
    }
   ],
   "source": [
    "f"
   ]
  },
  {
   "cell_type": "code",
   "execution_count": 5,
   "id": "d6c8de11-d168-4178-a398-eac8eb28a344",
   "metadata": {},
   "outputs": [
    {
     "ename": "NameError",
     "evalue": "name 'f' is not defined",
     "output_type": "error",
     "traceback": [
      "\u001b[0;31m---------------------------------------------------------------------------\u001b[0m",
      "\u001b[0;31mNameError\u001b[0m                                 Traceback (most recent call last)",
      "Cell \u001b[0;32mIn[5], line 1\u001b[0m\n\u001b[0;32m----> 1\u001b[0m \u001b[43mf\u001b[49m\u001b[38;5;241m.\u001b[39mreal\n",
      "\u001b[0;31mNameError\u001b[0m: name 'f' is not defined"
     ]
    }
   ],
   "source": [
    "f.real"
   ]
  },
  {
   "cell_type": "code",
   "execution_count": 6,
   "id": "a1977d66-d6a6-477b-bfe4-f3d0ed5cacca",
   "metadata": {},
   "outputs": [],
   "source": [
    "g = 5+4j"
   ]
  },
  {
   "cell_type": "code",
   "execution_count": 7,
   "id": "259b4dcb-5f71-4b63-86a0-4e915ea5bda3",
   "metadata": {},
   "outputs": [
    {
     "name": "stdout",
     "output_type": "stream",
     "text": [
      "(5+4j)\n"
     ]
    }
   ],
   "source": [
    "print(g)"
   ]
  },
  {
   "cell_type": "code",
   "execution_count": 8,
   "id": "8f860ac7-a639-4001-80a0-7f0e3b7ddb41",
   "metadata": {},
   "outputs": [
    {
     "data": {
      "text/plain": [
       "4.0"
      ]
     },
     "execution_count": 8,
     "metadata": {},
     "output_type": "execute_result"
    }
   ],
   "source": [
    "g.imag"
   ]
  },
  {
   "cell_type": "code",
   "execution_count": 9,
   "id": "6d0f492a-ec7a-43d5-8f06-2ff235af6237",
   "metadata": {},
   "outputs": [
    {
     "data": {
      "text/plain": [
       "5.0"
      ]
     },
     "execution_count": 9,
     "metadata": {},
     "output_type": "execute_result"
    }
   ],
   "source": [
    "g.real"
   ]
  },
  {
   "cell_type": "code",
   "execution_count": null,
   "id": "43bca689-6166-4416-85bc-f9fcb897b7b8",
   "metadata": {},
   "outputs": [],
   "source": []
  },
  {
   "cell_type": "code",
   "execution_count": null,
   "id": "150ecb93-daba-41ab-8e13-601d0779c474",
   "metadata": {},
   "outputs": [],
   "source": []
  },
  {
   "cell_type": "code",
   "execution_count": null,
   "id": "d34de643-d7b3-49f0-ae16-eaf0637a66fc",
   "metadata": {},
   "outputs": [],
   "source": []
  },
  {
   "cell_type": "code",
   "execution_count": null,
   "id": "cd66bdb6-e73d-4e7d-b567-b4eee1ab3f70",
   "metadata": {},
   "outputs": [],
   "source": []
  },
  {
   "cell_type": "code",
   "execution_count": null,
   "id": "8beef363-def1-486e-af08-2c62ae41995f",
   "metadata": {},
   "outputs": [],
   "source": []
  },
  {
   "cell_type": "code",
   "execution_count": null,
   "id": "1c7227fd-b252-40c5-8f53-c4f3c31fcd52",
   "metadata": {},
   "outputs": [],
   "source": []
  }
 ],
 "metadata": {
  "kernelspec": {
   "display_name": "Python 3 (ipykernel)",
   "language": "python",
   "name": "python3"
  },
  "language_info": {
   "codemirror_mode": {
    "name": "ipython",
    "version": 3
   },
   "file_extension": ".py",
   "mimetype": "text/x-python",
   "name": "python",
   "nbconvert_exporter": "python",
   "pygments_lexer": "ipython3",
   "version": "3.10.8"
  }
 },
 "nbformat": 4,
 "nbformat_minor": 5
}
