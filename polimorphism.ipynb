{
 "cells": [
  {
   "cell_type": "code",
   "execution_count": 1,
   "id": "5921ea6c-f802-4004-ad0a-59b2853c306d",
   "metadata": {},
   "outputs": [],
   "source": [
    "def test(a,b):\n",
    "    return a+b"
   ]
  },
  {
   "cell_type": "code",
   "execution_count": 2,
   "id": "788fe7fa-a4be-4a9b-a28a-11851c1570dc",
   "metadata": {},
   "outputs": [
    {
     "data": {
      "text/plain": [
       "7"
      ]
     },
     "execution_count": 2,
     "metadata": {},
     "output_type": "execute_result"
    }
   ],
   "source": [
    "test(3,4)"
   ]
  },
  {
   "cell_type": "code",
   "execution_count": 3,
   "id": "0750e508-e974-4aa7-9450-61f92a486c18",
   "metadata": {},
   "outputs": [
    {
     "data": {
      "text/plain": [
       "'sudh kumar '"
      ]
     },
     "execution_count": 3,
     "metadata": {},
     "output_type": "execute_result"
    }
   ],
   "source": [
    "test(\"sudh \" , \"kumar \")"
   ]
  },
  {
   "cell_type": "code",
   "execution_count": 4,
   "id": "2ae173a8-2ebf-46c5-87a8-5c152f0cb589",
   "metadata": {},
   "outputs": [
    {
     "data": {
      "text/plain": [
       "[3, 4, 5, 6, 2, 4, 5, 6]"
      ]
     },
     "execution_count": 4,
     "metadata": {},
     "output_type": "execute_result"
    }
   ],
   "source": [
    "test([3,4,5,6] , [2,4,5,6])"
   ]
  },
  {
   "cell_type": "code",
   "execution_count": 5,
   "id": "4cf55cbc-d125-49e1-a31f-b87ef91f6ffd",
   "metadata": {},
   "outputs": [],
   "source": [
    "class data_science:\n",
    "    \n",
    "    def syllabus(self):\n",
    "        print(\"this is my syllabus for web dev\")"
   ]
  },
  {
   "cell_type": "code",
   "execution_count": 7,
   "id": "3c6cd72a-e54f-4ba5-8bbf-2ee308a90af7",
   "metadata": {},
   "outputs": [],
   "source": [
    "def class_percer(class_obj):\n",
    "    for i in class_obj :\n",
    "        i.syllabus()"
   ]
  },
  {
   "cell_type": "code",
   "execution_count": 8,
   "id": "b423c1e0-e71e-4719-9093-56b805ec3648",
   "metadata": {},
   "outputs": [],
   "source": [
    "data_science = data_science()"
   ]
  },
  {
   "cell_type": "code",
   "execution_count": 10,
   "id": "8e5867dd-32a8-4a37-988d-ca8528da8d8e",
   "metadata": {},
   "outputs": [
    {
     "ename": "NameError",
     "evalue": "name 'web_dev' is not defined",
     "output_type": "error",
     "traceback": [
      "\u001b[0;31m---------------------------------------------------------------------------\u001b[0m",
      "\u001b[0;31mNameError\u001b[0m                                 Traceback (most recent call last)",
      "Cell \u001b[0;32mIn[10], line 1\u001b[0m\n\u001b[0;32m----> 1\u001b[0m web_dev \u001b[38;5;241m=\u001b[39m \u001b[43mweb_dev\u001b[49m()\n",
      "\u001b[0;31mNameError\u001b[0m: name 'web_dev' is not defined"
     ]
    }
   ],
   "source": [
    "web_dev = web_dev()"
   ]
  },
  {
   "cell_type": "code",
   "execution_count": 11,
   "id": "323dbca0-bbfd-4771-89df-09b92858c44d",
   "metadata": {},
   "outputs": [
    {
     "ename": "NameError",
     "evalue": "name 'web_dev' is not defined",
     "output_type": "error",
     "traceback": [
      "\u001b[0;31m---------------------------------------------------------------------------\u001b[0m",
      "\u001b[0;31mNameError\u001b[0m                                 Traceback (most recent call last)",
      "Cell \u001b[0;32mIn[11], line 1\u001b[0m\n\u001b[0;32m----> 1\u001b[0m class_obj \u001b[38;5;241m=\u001b[39m [data_science , \u001b[43mweb_dev\u001b[49m]\n",
      "\u001b[0;31mNameError\u001b[0m: name 'web_dev' is not defined"
     ]
    }
   ],
   "source": [
    "class_obj = [data_science , web_dev]"
   ]
  },
  {
   "cell_type": "code",
   "execution_count": null,
   "id": "c7760e38-ecac-49e6-87fb-31d47b0c7e54",
   "metadata": {},
   "outputs": [],
   "source": []
  }
 ],
 "metadata": {
  "kernelspec": {
   "display_name": "Python 3 (ipykernel)",
   "language": "python",
   "name": "python3"
  },
  "language_info": {
   "codemirror_mode": {
    "name": "ipython",
    "version": 3
   },
   "file_extension": ".py",
   "mimetype": "text/x-python",
   "name": "python",
   "nbconvert_exporter": "python",
   "pygments_lexer": "ipython3",
   "version": "3.10.8"
  }
 },
 "nbformat": 4,
 "nbformat_minor": 5
}
