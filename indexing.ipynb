{
 "cells": [
  {
   "cell_type": "code",
   "execution_count": 1,
   "id": "baa6007e-343d-4f08-99c7-dd73574d274d",
   "metadata": {},
   "outputs": [],
   "source": [
    "s1  = \"this is my car\"\n"
   ]
  },
  {
   "cell_type": "code",
   "execution_count": 2,
   "id": "3524ad50-b262-4061-8512-76017b992a16",
   "metadata": {},
   "outputs": [
    {
     "data": {
      "text/plain": [
       "14"
      ]
     },
     "execution_count": 2,
     "metadata": {},
     "output_type": "execute_result"
    }
   ],
   "source": [
    "len(s1)\n"
   ]
  },
  {
   "cell_type": "code",
   "execution_count": 3,
   "id": "2602172d-5ff9-41d5-9253-ac512aa56b4c",
   "metadata": {},
   "outputs": [],
   "source": [
    "S = \"hello\"\n"
   ]
  },
  {
   "cell_type": "code",
   "execution_count": 4,
   "id": "d9bb7d59-e292-40a9-89b7-2ea10f12ac5a",
   "metadata": {},
   "outputs": [
    {
     "data": {
      "text/plain": [
       "str"
      ]
     },
     "execution_count": 4,
     "metadata": {},
     "output_type": "execute_result"
    }
   ],
   "source": [
    "type(S)"
   ]
  },
  {
   "cell_type": "code",
   "execution_count": 5,
   "id": "13e87956-b1dd-4b42-9bfe-ac385a532ef9",
   "metadata": {},
   "outputs": [
    {
     "data": {
      "text/plain": [
       "'h'"
      ]
     },
     "execution_count": 5,
     "metadata": {},
     "output_type": "execute_result"
    }
   ],
   "source": [
    "S[0]"
   ]
  },
  {
   "cell_type": "code",
   "execution_count": 6,
   "id": "3b14cdb8-b8f1-41c9-9b77-1dfe9b2c221d",
   "metadata": {},
   "outputs": [
    {
     "data": {
      "text/plain": [
       "'l'"
      ]
     },
     "execution_count": 6,
     "metadata": {},
     "output_type": "execute_result"
    }
   ],
   "source": [
    "S[2]"
   ]
  },
  {
   "cell_type": "code",
   "execution_count": 7,
   "id": "d9c9a393-d47c-489e-a6a6-c67acccc3a8e",
   "metadata": {},
   "outputs": [
    {
     "data": {
      "text/plain": [
       "'o'"
      ]
     },
     "execution_count": 7,
     "metadata": {},
     "output_type": "execute_result"
    }
   ],
   "source": [
    "S[-1]\n"
   ]
  },
  {
   "cell_type": "code",
   "execution_count": 8,
   "id": "f6c94bf6-4c1c-4ed4-99f6-aea09af0432f",
   "metadata": {},
   "outputs": [
    {
     "data": {
      "text/plain": [
       "'hell'"
      ]
     },
     "execution_count": 8,
     "metadata": {},
     "output_type": "execute_result"
    }
   ],
   "source": [
    "S[0:-1]"
   ]
  },
  {
   "cell_type": "code",
   "execution_count": 11,
   "id": "772c8bd7-323c-4863-ba83-e9d0a1c601b7",
   "metadata": {},
   "outputs": [
    {
     "data": {
      "text/plain": [
       "'hlo'"
      ]
     },
     "execution_count": 11,
     "metadata": {},
     "output_type": "execute_result"
    }
   ],
   "source": [
    "S[0:5:2]"
   ]
  },
  {
   "cell_type": "code",
   "execution_count": 14,
   "id": "f929a782-3c66-4523-b49d-fcf495c85947",
   "metadata": {},
   "outputs": [
    {
     "data": {
      "text/plain": [
       "''"
      ]
     },
     "execution_count": 14,
     "metadata": {},
     "output_type": "execute_result"
    }
   ],
   "source": [
    "S[2:0]"
   ]
  },
  {
   "cell_type": "code",
   "execution_count": 15,
   "id": "243f2648-7048-45f6-9bdc-ebc238a74dca",
   "metadata": {},
   "outputs": [
    {
     "data": {
      "text/plain": [
       "'olleh'"
      ]
     },
     "execution_count": 15,
     "metadata": {},
     "output_type": "execute_result"
    }
   ],
   "source": [
    "S[::-1]"
   ]
  },
  {
   "cell_type": "code",
   "execution_count": 16,
   "id": "1cbcf9c3-773f-404a-8602-b419164eba18",
   "metadata": {},
   "outputs": [],
   "source": [
    "A = \"Ram was king of Ayodha\"\n"
   ]
  },
  {
   "cell_type": "code",
   "execution_count": 20,
   "id": "63722ee0-0d06-4f29-8c5c-4132a62f23e0",
   "metadata": {},
   "outputs": [
    {
     "data": {
      "text/plain": [
       "'a a i'"
      ]
     },
     "execution_count": 20,
     "metadata": {},
     "output_type": "execute_result"
    }
   ],
   "source": [
    "A[1:11:2]"
   ]
  },
  {
   "cell_type": "code",
   "execution_count": 21,
   "id": "5342a687-f333-47f9-b6a3-391ba5914913",
   "metadata": {},
   "outputs": [
    {
     "data": {
      "text/plain": [
       "'ahdoyA fo gnik saw maR'"
      ]
     },
     "execution_count": 21,
     "metadata": {},
     "output_type": "execute_result"
    }
   ],
   "source": [
    "A[::-1]\n"
   ]
  },
  {
   "cell_type": "code",
   "execution_count": 24,
   "id": "42f4d511-984a-487f-8505-5bbaa274e3ad",
   "metadata": {},
   "outputs": [
    {
     "data": {
      "text/plain": [
       "'a'"
      ]
     },
     "execution_count": 24,
     "metadata": {},
     "output_type": "execute_result"
    }
   ],
   "source": [
    "A[-1:-3:-2]"
   ]
  },
  {
   "cell_type": "code",
   "execution_count": 25,
   "id": "d19c7eeb-e5bd-4bcd-bbed-9ca3559501ae",
   "metadata": {},
   "outputs": [
    {
     "data": {
      "text/plain": [
       "'R s'"
      ]
     },
     "execution_count": 25,
     "metadata": {},
     "output_type": "execute_result"
    }
   ],
   "source": [
    "A[:8:3]"
   ]
  },
  {
   "cell_type": "code",
   "execution_count": 31,
   "id": "495db32a-dc27-4255-8ed7-194d9a213171",
   "metadata": {},
   "outputs": [
    {
     "data": {
      "text/plain": [
       "''"
      ]
     },
     "execution_count": 31,
     "metadata": {},
     "output_type": "execute_result"
    }
   ],
   "source": [
    "A[:90:-1]"
   ]
  },
  {
   "cell_type": "code",
   "execution_count": 34,
   "id": "6dc83e87-00b2-426c-a874-06a1c0ab2988",
   "metadata": {},
   "outputs": [],
   "source": [
    " C = \"200\"\n",
    "    "
   ]
  },
  {
   "cell_type": "code",
   "execution_count": 35,
   "id": "955cc66b-0801-4d3a-a410-621dd9a066c6",
   "metadata": {},
   "outputs": [
    {
     "data": {
      "text/plain": [
       "'0'"
      ]
     },
     "execution_count": 35,
     "metadata": {},
     "output_type": "execute_result"
    }
   ],
   "source": [
    "C[2]"
   ]
  },
  {
   "cell_type": "code",
   "execution_count": 36,
   "id": "4031e46b-90e4-4251-a535-d19730be5004",
   "metadata": {},
   "outputs": [],
   "source": [
    "s1 = \"this is my string class\""
   ]
  },
  {
   "cell_type": "code",
   "execution_count": 37,
   "id": "20d45b22-3d75-460f-b995-860e48d5092c",
   "metadata": {},
   "outputs": [
    {
     "data": {
      "text/plain": [
       "23"
      ]
     },
     "execution_count": 37,
     "metadata": {},
     "output_type": "execute_result"
    }
   ],
   "source": [
    "len(s1)"
   ]
  },
  {
   "cell_type": "code",
   "execution_count": 40,
   "id": "a23df3ab-f5b9-4e67-b23a-bab7e242a70e",
   "metadata": {},
   "outputs": [
    {
     "data": {
      "text/plain": [
       "3"
      ]
     },
     "execution_count": 40,
     "metadata": {},
     "output_type": "execute_result"
    }
   ],
   "source": [
    "s1.find('s')"
   ]
  },
  {
   "cell_type": "code",
   "execution_count": 41,
   "id": "3218f63d-d557-46ef-920e-0367e4643c68",
   "metadata": {},
   "outputs": [
    {
     "data": {
      "text/plain": [
       "2"
      ]
     },
     "execution_count": 41,
     "metadata": {},
     "output_type": "execute_result"
    }
   ],
   "source": [
    "s1.find('is')"
   ]
  },
  {
   "cell_type": "code",
   "execution_count": 42,
   "id": "83239f9b-855f-45df-931e-b0eae0a923b0",
   "metadata": {},
   "outputs": [
    {
     "data": {
      "text/plain": [
       "-1"
      ]
     },
     "execution_count": 42,
     "metadata": {},
     "output_type": "execute_result"
    }
   ],
   "source": [
    "s1.find('iS')\n"
   ]
  },
  {
   "cell_type": "code",
   "execution_count": 44,
   "id": "79c20a19-ed4c-4388-90b3-959011723f4b",
   "metadata": {},
   "outputs": [
    {
     "data": {
      "text/plain": [
       "5"
      ]
     },
     "execution_count": 44,
     "metadata": {},
     "output_type": "execute_result"
    }
   ],
   "source": [
    "s1.count('s')"
   ]
  },
  {
   "cell_type": "code",
   "execution_count": 45,
   "id": "ac647f38-f80e-4d33-a416-c3af8fa0f1ac",
   "metadata": {},
   "outputs": [
    {
     "data": {
      "text/plain": [
       "1"
      ]
     },
     "execution_count": 45,
     "metadata": {},
     "output_type": "execute_result"
    }
   ],
   "source": [
    "s1.count('a')"
   ]
  },
  {
   "cell_type": "code",
   "execution_count": 46,
   "id": "096c1d07-7d9e-481e-9768-a1682bdd3677",
   "metadata": {},
   "outputs": [
    {
     "data": {
      "text/plain": [
       "0"
      ]
     },
     "execution_count": 46,
     "metadata": {},
     "output_type": "execute_result"
    }
   ],
   "source": [
    "s1.count('p')"
   ]
  },
  {
   "cell_type": "code",
   "execution_count": 47,
   "id": "de9d3f09-27d6-463e-9471-55cea59d33fb",
   "metadata": {},
   "outputs": [
    {
     "data": {
      "text/plain": [
       "'this is my string class'"
      ]
     },
     "execution_count": 47,
     "metadata": {},
     "output_type": "execute_result"
    }
   ],
   "source": [
    "s1"
   ]
  },
  {
   "cell_type": "code",
   "execution_count": 48,
   "id": "32a50243-17ca-499a-8ac9-12410f79c056",
   "metadata": {},
   "outputs": [
    {
     "data": {
      "text/plain": [
       "'THIS IS MY STRING CLASS'"
      ]
     },
     "execution_count": 48,
     "metadata": {},
     "output_type": "execute_result"
    }
   ],
   "source": [
    "s1.upper()"
   ]
  },
  {
   "cell_type": "code",
   "execution_count": 49,
   "id": "4612617e-917f-4373-b3b6-4ea358c44ef6",
   "metadata": {},
   "outputs": [
    {
     "data": {
      "text/plain": [
       "'this is my string class'"
      ]
     },
     "execution_count": 49,
     "metadata": {},
     "output_type": "execute_result"
    }
   ],
   "source": [
    "s1.lower()"
   ]
  },
  {
   "cell_type": "code",
   "execution_count": 50,
   "id": "ff773c10-59c6-4fb4-b2b9-584acab534ea",
   "metadata": {},
   "outputs": [
    {
     "data": {
      "text/plain": [
       "'This Is My String Class'"
      ]
     },
     "execution_count": 50,
     "metadata": {},
     "output_type": "execute_result"
    }
   ],
   "source": [
    "s1.title()"
   ]
  },
  {
   "cell_type": "code",
   "execution_count": 51,
   "id": "b3aee02a-0980-4fac-b986-4acc0c88a325",
   "metadata": {},
   "outputs": [
    {
     "data": {
      "text/plain": [
       "'This is my string class'"
      ]
     },
     "execution_count": 51,
     "metadata": {},
     "output_type": "execute_result"
    }
   ],
   "source": [
    "s1.capitalize()"
   ]
  },
  {
   "cell_type": "code",
   "execution_count": 58,
   "id": "9ee0232c-86c9-4c08-98f2-bb5a45d3dad3",
   "metadata": {},
   "outputs": [
    {
     "data": {
      "text/plain": [
       "'this is my string classthis is my string classthis is my string class'"
      ]
     },
     "execution_count": 58,
     "metadata": {},
     "output_type": "execute_result"
    }
   ],
   "source": [
    "s1*3"
   ]
  },
  {
   "cell_type": "code",
   "execution_count": 62,
   "id": "bec16f60-bb23-49b6-a3b8-4ee94a68c045",
   "metadata": {},
   "outputs": [
    {
     "name": "stderr",
     "output_type": "stream",
     "text": [
      "<>:1: SyntaxWarning: \"is\" with a literal. Did you mean \"==\"?\n",
      "<>:1: SyntaxWarning: \"is\" with a literal. Did you mean \"==\"?\n",
      "/tmp/ipykernel_160/3483992594.py:1: SyntaxWarning: \"is\" with a literal. Did you mean \"==\"?\n",
      "  \"this \"is\" my car BMW\"\n"
     ]
    },
    {
     "data": {
      "text/plain": [
       "False"
      ]
     },
     "execution_count": 62,
     "metadata": {},
     "output_type": "execute_result"
    }
   ],
   "source": [
    "\"this 'is' my car BMW\"\n"
   ]
  },
  {
   "cell_type": "code",
   "execution_count": 66,
   "id": "c3962e8b-2ddd-4dce-8b90-ee1fa34afba5",
   "metadata": {},
   "outputs": [
    {
     "data": {
      "text/plain": [
       "' this is my first class for progrmamming i have see some indexing and slicing function\\ni am try to practice the progrmamming \\nbut css is not working '"
      ]
     },
     "execution_count": 66,
     "metadata": {},
     "output_type": "execute_result"
    }
   ],
   "source": [
    "#  this is my first class for progrmamming i have see some indexing and slicing function\n",
    "# i am try to practice the progrmamming \n",
    "# but css is not working ."
   ]
  },
  {
   "cell_type": "code",
   "execution_count": null,
   "id": "8e0462de-9dd5-41a3-aa33-4ca6b09b84d6",
   "metadata": {},
   "outputs": [],
   "source": []
  }
 ],
 "metadata": {
  "kernelspec": {
   "display_name": "Python 3 (ipykernel)",
   "language": "python",
   "name": "python3"
  },
  "language_info": {
   "codemirror_mode": {
    "name": "ipython",
    "version": 3
   },
   "file_extension": ".py",
   "mimetype": "text/x-python",
   "name": "python",
   "nbconvert_exporter": "python",
   "pygments_lexer": "ipython3",
   "version": "3.10.8"
  }
 },
 "nbformat": 4,
 "nbformat_minor": 5
}
