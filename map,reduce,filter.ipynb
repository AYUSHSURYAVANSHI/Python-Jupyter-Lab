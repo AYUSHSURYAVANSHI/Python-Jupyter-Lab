{
 "cells": [
  {
   "cell_type": "code",
   "execution_count": 1,
   "id": "137e5fe1-6a4a-490d-b5e5-f04542a084ec",
   "metadata": {},
   "outputs": [],
   "source": [
    "l = [1,23,4,5]\n"
   ]
  },
  {
   "cell_type": "code",
   "execution_count": 2,
   "id": "00ffe15e-3339-45b1-b52c-a0e1cdba4457",
   "metadata": {},
   "outputs": [],
   "source": [
    "def test(l):\n",
    "    l1 = []\n",
    "    for i in l:\n",
    "        l1.append(i**2)\n",
    "    return l1 "
   ]
  },
  {
   "cell_type": "code",
   "execution_count": 4,
   "id": "adf0f84f-fd62-4e5f-b919-9c6d82910d50",
   "metadata": {},
   "outputs": [
    {
     "data": {
      "text/plain": [
       "[1, 529, 16, 25]"
      ]
     },
     "execution_count": 4,
     "metadata": {},
     "output_type": "execute_result"
    }
   ],
   "source": [
    "test(l)"
   ]
  },
  {
   "cell_type": "code",
   "execution_count": 5,
   "id": "1f6c8718-3a1d-42b7-b286-ea9d68aff7d4",
   "metadata": {},
   "outputs": [],
   "source": [
    "def sq(x):\n",
    "    return x**2"
   ]
  },
  {
   "cell_type": "code",
   "execution_count": 7,
   "id": "98b59aa6-5bf3-4662-9771-93fb4532ee4e",
   "metadata": {},
   "outputs": [
    {
     "ename": "TypeError",
     "evalue": "'int' object is not iterable",
     "output_type": "error",
     "traceback": [
      "\u001b[0;31m---------------------------------------------------------------------------\u001b[0m",
      "\u001b[0;31mTypeError\u001b[0m                                 Traceback (most recent call last)",
      "Cell \u001b[0;32mIn[7], line 1\u001b[0m\n\u001b[0;32m----> 1\u001b[0m \u001b[38;5;28mlist\u001b[39m(\u001b[38;5;28;43mmap\u001b[39;49m\u001b[43m(\u001b[49m\u001b[43m \u001b[49m\u001b[43msq\u001b[49m\u001b[43m \u001b[49m\u001b[43m,\u001b[49m\u001b[43m \u001b[49m\u001b[38;5;241;43m1\u001b[39;49m\u001b[43m)\u001b[49m)\n",
      "\u001b[0;31mTypeError\u001b[0m: 'int' object is not iterable"
     ]
    }
   ],
   "source": [
    "list(map( sq , 1))"
   ]
  },
  {
   "cell_type": "code",
   "execution_count": 8,
   "id": "5bc5586e-f2ef-44fc-ac59-c99854911bc1",
   "metadata": {},
   "outputs": [
    {
     "data": {
      "text/plain": [
       "[1, 529, 16, 25]"
      ]
     },
     "execution_count": 8,
     "metadata": {},
     "output_type": "execute_result"
    }
   ],
   "source": [
    "list(map(lambda x : x**2 , l))"
   ]
  },
  {
   "cell_type": "code",
   "execution_count": 9,
   "id": "8e98378c-2cf5-4d15-85fb-412be114ea1a",
   "metadata": {},
   "outputs": [
    {
     "data": {
      "text/plain": [
       "[4, 7, 10, 11, 13]"
      ]
     },
     "execution_count": 9,
     "metadata": {},
     "output_type": "execute_result"
    }
   ],
   "source": [
    "l1 = [1,2,4,4,5,6]\n",
    "l2 = [3,5,6,7,8]\n",
    "\n",
    "list(map(lambda x,y : x+y ,l1,l2))"
   ]
  },
  {
   "cell_type": "code",
   "execution_count": 10,
   "id": "87d49056-352d-485b-9115-6cdf130d87c0",
   "metadata": {},
   "outputs": [
    {
     "data": {
      "text/plain": [
       "['H', 'E', 'L', 'L', 'O']"
      ]
     },
     "execution_count": 10,
     "metadata": {},
     "output_type": "execute_result"
    }
   ],
   "source": [
    "s = \"Hello\"\n",
    "list(map(lambda s : s.upper() , s))"
   ]
  },
  {
   "cell_type": "code",
   "execution_count": 12,
   "id": "3b268afa-15dd-456f-98cb-2d7210b78238",
   "metadata": {},
   "outputs": [],
   "source": [
    "from functools import reduce"
   ]
  },
  {
   "cell_type": "code",
   "execution_count": 14,
   "id": "2415dfac-85f0-46e1-8e53-da9f1aee3361",
   "metadata": {},
   "outputs": [
    {
     "data": {
      "text/plain": [
       "33"
      ]
     },
     "execution_count": 14,
     "metadata": {},
     "output_type": "execute_result"
    }
   ],
   "source": [
    "reduce(lambda x,y : x+y , l)"
   ]
  },
  {
   "cell_type": "code",
   "execution_count": 15,
   "id": "a91f636c-dde4-400f-b953-4ff1fabca49f",
   "metadata": {},
   "outputs": [
    {
     "data": {
      "text/plain": [
       "[1, 23, 4, 5]"
      ]
     },
     "execution_count": 15,
     "metadata": {},
     "output_type": "execute_result"
    }
   ],
   "source": [
    "reduce(lambda x,y : x+y ,[l])"
   ]
  },
  {
   "cell_type": "code",
   "execution_count": 16,
   "id": "d6cc2172-45b3-4835-8e48-2d475eed83bb",
   "metadata": {},
   "outputs": [
    {
     "data": {
      "text/plain": [
       "[1, 23, 4, 5]"
      ]
     },
     "execution_count": 16,
     "metadata": {},
     "output_type": "execute_result"
    }
   ],
   "source": [
    "l "
   ]
  },
  {
   "cell_type": "code",
   "execution_count": 17,
   "id": "e1a0f0ab-587b-48e8-b865-cdfbc59b10ec",
   "metadata": {},
   "outputs": [
    {
     "data": {
      "text/plain": [
       "[4]"
      ]
     },
     "execution_count": 17,
     "metadata": {},
     "output_type": "execute_result"
    }
   ],
   "source": [
    "list(filter(lambda x : x%2 == 0,l))"
   ]
  },
  {
   "cell_type": "code",
   "execution_count": 18,
   "id": "5c105fa5-3625-46c9-b6d5-5237316279c8",
   "metadata": {},
   "outputs": [
    {
     "data": {
      "text/plain": [
       "[1, 23, 5]"
      ]
     },
     "execution_count": 18,
     "metadata": {},
     "output_type": "execute_result"
    }
   ],
   "source": [
    "list(filter(lambda x : x%2 != 0,l))"
   ]
  },
  {
   "cell_type": "code",
   "execution_count": 19,
   "id": "01029492-22ad-463b-9079-1d870a239783",
   "metadata": {},
   "outputs": [],
   "source": [
    "l1 = [-2,-4,6,4,2,-3]\n"
   ]
  },
  {
   "cell_type": "code",
   "execution_count": 20,
   "id": "f4c25d72-3564-44fa-8e2c-e71ae5923dad",
   "metadata": {},
   "outputs": [
    {
     "data": {
      "text/plain": [
       "[-2, -4, -3]"
      ]
     },
     "execution_count": 20,
     "metadata": {},
     "output_type": "execute_result"
    }
   ],
   "source": [
    "list(filter(lambda x : x<0 , l1))"
   ]
  },
  {
   "cell_type": "code",
   "execution_count": null,
   "id": "68186564-84bb-4f82-8d6f-114b878cd1c1",
   "metadata": {},
   "outputs": [],
   "source": []
  }
 ],
 "metadata": {
  "kernelspec": {
   "display_name": "Python 3 (ipykernel)",
   "language": "python",
   "name": "python3"
  },
  "language_info": {
   "codemirror_mode": {
    "name": "ipython",
    "version": 3
   },
   "file_extension": ".py",
   "mimetype": "text/x-python",
   "name": "python",
   "nbconvert_exporter": "python",
   "pygments_lexer": "ipython3",
   "version": "3.10.8"
  }
 },
 "nbformat": 4,
 "nbformat_minor": 5
}
