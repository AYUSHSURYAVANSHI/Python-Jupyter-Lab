{
 "cells": [
  {
   "cell_type": "code",
   "execution_count": 3,
   "id": "e5de0a97-4f41-4542-b0df-b535f3e5ffc0",
   "metadata": {},
   "outputs": [],
   "source": [
    "s1 = \"ayush\""
   ]
  },
  {
   "cell_type": "code",
   "execution_count": 4,
   "id": "b4f5ef40-3529-4eb6-9fd7-968d9a5d5f2d",
   "metadata": {},
   "outputs": [
    {
     "data": {
      "text/plain": [
       "str"
      ]
     },
     "execution_count": 4,
     "metadata": {},
     "output_type": "execute_result"
    }
   ],
   "source": [
    "type(s1)"
   ]
  },
  {
   "cell_type": "code",
   "execution_count": 5,
   "id": "ae4dd272-3d7d-4b80-8474-5c5da4211209",
   "metadata": {},
   "outputs": [],
   "source": [
    "l = [2,3,4,5,6,\"Ayush\",3.4]"
   ]
  },
  {
   "cell_type": "code",
   "execution_count": 6,
   "id": "d520ca20-86a5-44a2-96ea-1401047b0d56",
   "metadata": {},
   "outputs": [
    {
     "name": "stdout",
     "output_type": "stream",
     "text": [
      "[2, 3, 4, 5, 6, 'Ayush', 3.4]\n"
     ]
    }
   ],
   "source": [
    "print(l)"
   ]
  },
  {
   "cell_type": "code",
   "execution_count": 10,
   "id": "2cda8783-1675-4040-b0ec-6a781f5e7bd3",
   "metadata": {},
   "outputs": [
    {
     "data": {
      "text/plain": [
       "3.4"
      ]
     },
     "execution_count": 10,
     "metadata": {},
     "output_type": "execute_result"
    }
   ],
   "source": [
    "l[-1]"
   ]
  },
  {
   "cell_type": "code",
   "execution_count": 12,
   "id": "72d97a0a-1154-4eb4-b095-c7e53edaa18a",
   "metadata": {},
   "outputs": [],
   "source": [
    "l[3] = 300"
   ]
  },
  {
   "cell_type": "code",
   "execution_count": 13,
   "id": "f2a8ed88-7473-445c-8a9e-9db103b51a35",
   "metadata": {},
   "outputs": [
    {
     "name": "stdout",
     "output_type": "stream",
     "text": [
      "[2, 3, 4, 300, 6, 'Ayush', 3.4]\n"
     ]
    }
   ],
   "source": [
    "print(l)"
   ]
  },
  {
   "cell_type": "code",
   "execution_count": 14,
   "id": "5b29adbf-4200-4207-95d3-93b2e2706444",
   "metadata": {},
   "outputs": [],
   "source": [
    "l[2] = 11"
   ]
  },
  {
   "cell_type": "code",
   "execution_count": 15,
   "id": "77ae1cb2-33c0-4687-b124-53800d147005",
   "metadata": {},
   "outputs": [
    {
     "name": "stdout",
     "output_type": "stream",
     "text": [
      "[2, 3, 11, 300, 6, 'Ayush', 3.4]\n"
     ]
    }
   ],
   "source": [
    "print(l)"
   ]
  },
  {
   "cell_type": "code",
   "execution_count": 16,
   "id": "d4ae7882-cfd7-40e0-a6f9-f1f8f2367bc3",
   "metadata": {},
   "outputs": [],
   "source": [
    "s = \"hello\""
   ]
  },
  {
   "cell_type": "code",
   "execution_count": null,
   "id": "6368dcdd-05be-4365-a161-ecee10d6cca8",
   "metadata": {},
   "outputs": [],
   "source": []
  },
  {
   "cell_type": "code",
   "execution_count": null,
   "id": "062702f8-c348-4e51-adfd-f1dab80a0043",
   "metadata": {},
   "outputs": [],
   "source": []
  },
  {
   "cell_type": "code",
   "execution_count": null,
   "id": "7f6c79be-f62b-49bb-83b4-4452632d0cf6",
   "metadata": {},
   "outputs": [],
   "source": []
  }
 ],
 "metadata": {
  "kernelspec": {
   "display_name": "Python 3 (ipykernel)",
   "language": "python",
   "name": "python3"
  },
  "language_info": {
   "codemirror_mode": {
    "name": "ipython",
    "version": 3
   },
   "file_extension": ".py",
   "mimetype": "text/x-python",
   "name": "python",
   "nbconvert_exporter": "python",
   "pygments_lexer": "ipython3",
   "version": "3.10.8"
  }
 },
 "nbformat": 4,
 "nbformat_minor": 5
}
