{
 "cells": [
  {
   "cell_type": "code",
   "execution_count": 1,
   "id": "6cf7f8a3-f72d-43e3-94da-fd104ac5ad7f",
   "metadata": {},
   "outputs": [],
   "source": [
    "n = 3\n",
    "p = 2"
   ]
  },
  {
   "cell_type": "code",
   "execution_count": 2,
   "id": "6077c66c-6a0a-4e62-8523-2f4f29391410",
   "metadata": {},
   "outputs": [],
   "source": [
    "def test(n,p):\n",
    "    return n**p"
   ]
  },
  {
   "cell_type": "code",
   "execution_count": 3,
   "id": "819a9812-328e-43be-bfa2-849ec12795c7",
   "metadata": {},
   "outputs": [
    {
     "data": {
      "text/plain": [
       "9"
      ]
     },
     "execution_count": 3,
     "metadata": {},
     "output_type": "execute_result"
    }
   ],
   "source": [
    "test(3,2)"
   ]
  },
  {
   "cell_type": "code",
   "execution_count": 4,
   "id": "eb3232b1-8d3f-41e2-87f1-96c4b82d544e",
   "metadata": {},
   "outputs": [],
   "source": [
    "a = lambda n , p: n**p"
   ]
  },
  {
   "cell_type": "code",
   "execution_count": 5,
   "id": "7a2b45f1-d4ef-4357-a8d2-0016064886aa",
   "metadata": {},
   "outputs": [
    {
     "data": {
      "text/plain": [
       "9"
      ]
     },
     "execution_count": 5,
     "metadata": {},
     "output_type": "execute_result"
    }
   ],
   "source": [
    "a(3,2)"
   ]
  },
  {
   "cell_type": "code",
   "execution_count": 6,
   "id": "862e4b7a-56e4-4831-b135-517437c4223a",
   "metadata": {},
   "outputs": [],
   "source": [
    "add = lambda x,y : x+y"
   ]
  },
  {
   "cell_type": "code",
   "execution_count": 7,
   "id": "2d31e7f1-a4e3-41eb-8982-fc19adee3eb9",
   "metadata": {},
   "outputs": [
    {
     "data": {
      "text/plain": [
       "8"
      ]
     },
     "execution_count": 7,
     "metadata": {},
     "output_type": "execute_result"
    }
   ],
   "source": [
    "add(3,5)"
   ]
  },
  {
   "cell_type": "code",
   "execution_count": 8,
   "id": "46f3a4cc-be7b-4fca-b442-200a361a8de1",
   "metadata": {},
   "outputs": [],
   "source": [
    "c_to_f = lambda c: (9/5)*c +32"
   ]
  },
  {
   "cell_type": "code",
   "execution_count": 9,
   "id": "477029dd-8dae-42ce-b2e2-b4a8fdee1b82",
   "metadata": {},
   "outputs": [
    {
     "data": {
      "text/plain": [
       "113.0"
      ]
     },
     "execution_count": 9,
     "metadata": {},
     "output_type": "execute_result"
    }
   ],
   "source": [
    "c_to_f(45)"
   ]
  },
  {
   "cell_type": "code",
   "execution_count": 15,
   "id": "8ec4fb30-f7b5-46c1-9840-7c1ac9104984",
   "metadata": {},
   "outputs": [
    {
     "ename": "SyntaxError",
     "evalue": "invalid syntax (544814081.py, line 1)",
     "output_type": "error",
     "traceback": [
      "\u001b[0;36m  Cell \u001b[0;32mIn[15], line 1\u001b[0;36m\u001b[0m\n\u001b[0;31m    finding_max = lambda x,y : x if x>y else\u001b[0m\n\u001b[0m                                              ^\u001b[0m\n\u001b[0;31mSyntaxError\u001b[0m\u001b[0;31m:\u001b[0m invalid syntax\n"
     ]
    }
   ],
   "source": [
    "finding_max = lambda x,y : x if x>y else  "
   ]
  },
  {
   "cell_type": "code",
   "execution_count": 16,
   "id": "5fd76687-a581-484f-a93b-b26880834475",
   "metadata": {},
   "outputs": [],
   "source": [
    "s = \"pwskills\"\n"
   ]
  },
  {
   "cell_type": "code",
   "execution_count": 17,
   "id": "0a174759-0bfa-46ea-b0f3-2a70bcab5ffa",
   "metadata": {},
   "outputs": [],
   "source": [
    "find_len = lambda s: len(s)"
   ]
  },
  {
   "cell_type": "code",
   "execution_count": null,
   "id": "9ba21cc6-adb7-43e9-9fa2-8b2a41b1b56c",
   "metadata": {},
   "outputs": [],
   "source": []
  }
 ],
 "metadata": {
  "kernelspec": {
   "display_name": "Python 3 (ipykernel)",
   "language": "python",
   "name": "python3"
  },
  "language_info": {
   "codemirror_mode": {
    "name": "ipython",
    "version": 3
   },
   "file_extension": ".py",
   "mimetype": "text/x-python",
   "name": "python",
   "nbconvert_exporter": "python",
   "pygments_lexer": "ipython3",
   "version": "3.10.8"
  }
 },
 "nbformat": 4,
 "nbformat_minor": 5
}
