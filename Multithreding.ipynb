{
 "cells": [
  {
   "cell_type": "code",
   "execution_count": 3,
   "id": "823ac88d-def4-40f3-a6c5-042bff0cb434",
   "metadata": {},
   "outputs": [],
   "source": [
    "import threading"
   ]
  },
  {
   "cell_type": "code",
   "execution_count": 4,
   "id": "f7595a28-b237-4adc-990b-30171bd4c4d0",
   "metadata": {},
   "outputs": [],
   "source": [
    "def test(id):\n",
    "    print(\"program start %d\", id)"
   ]
  },
  {
   "cell_type": "code",
   "execution_count": 5,
   "id": "324e66b5-534a-471d-8407-fd535ccc8ded",
   "metadata": {},
   "outputs": [
    {
     "name": "stdout",
     "output_type": "stream",
     "text": [
      "program start %d 23\n"
     ]
    }
   ],
   "source": [
    "test(23)"
   ]
  },
  {
   "cell_type": "code",
   "execution_count": 6,
   "id": "e58cfc18-ae34-47d4-bc5f-d53b3bd30b89",
   "metadata": {},
   "outputs": [],
   "source": [
    "thread = [threading.Thread(target=test , args=(i,))for i in range(10)]"
   ]
  },
  {
   "cell_type": "code",
   "execution_count": 7,
   "id": "dfeaa792-bb9e-4605-b8e4-36ba486bd951",
   "metadata": {},
   "outputs": [
    {
     "name": "stdout",
     "output_type": "stream",
     "text": [
      "program start %d 0\n",
      "program start %d 1\n",
      "program start %d 2\n",
      "program start %d 3\n",
      "program start %d 4\n",
      "program start %d 5\n",
      "program start %d 6\n",
      "program start %d 7\n",
      "program start %d 8\n",
      "program start %d 9\n"
     ]
    }
   ],
   "source": [
    "for t in thread :\n",
    "    t.start()"
   ]
  },
  {
   "cell_type": "code",
   "execution_count": 8,
   "id": "8f13b033-7e2a-4732-8926-cae7ed00157c",
   "metadata": {},
   "outputs": [
    {
     "data": {
      "text/plain": [
       "[0, 1, 2, 3, 4, 5, 6, 7, 8, 9]"
      ]
     },
     "execution_count": 8,
     "metadata": {},
     "output_type": "execute_result"
    }
   ],
   "source": [
    "list(range(10))"
   ]
  },
  {
   "cell_type": "code",
   "execution_count": 9,
   "id": "30a2253d-4705-4478-920e-daf6d2bc823e",
   "metadata": {},
   "outputs": [
    {
     "data": {
      "text/plain": [
       "[<Thread(Thread-5 (test), stopped 140357987726912)>,\n",
       " <Thread(Thread-6 (test), stopped 140357987726912)>,\n",
       " <Thread(Thread-7 (test), stopped 140357987726912)>,\n",
       " <Thread(Thread-8 (test), stopped 140357987726912)>,\n",
       " <Thread(Thread-9 (test), stopped 140357987726912)>,\n",
       " <Thread(Thread-10 (test), stopped 140357987726912)>,\n",
       " <Thread(Thread-11 (test), stopped 140357987726912)>,\n",
       " <Thread(Thread-12 (test), stopped 140357987726912)>,\n",
       " <Thread(Thread-13 (test), stopped 140357987726912)>,\n",
       " <Thread(Thread-14 (test), stopped 140357987726912)>]"
      ]
     },
     "execution_count": 9,
     "metadata": {},
     "output_type": "execute_result"
    }
   ],
   "source": [
    "thread"
   ]
  },
  {
   "cell_type": "code",
   "execution_count": 10,
   "id": "4c7ca24e-a2c9-4c10-98c1-1208edee78e6",
   "metadata": {},
   "outputs": [
    {
     "data": {
      "text/plain": [
       "140358330084352"
      ]
     },
     "execution_count": 10,
     "metadata": {},
     "output_type": "execute_result"
    }
   ],
   "source": [
    "id(thread)"
   ]
  },
  {
   "cell_type": "code",
   "execution_count": 11,
   "id": "19d96ea4-343e-4958-bd56-b0c119f6fb81",
   "metadata": {},
   "outputs": [],
   "source": [
    "import threading"
   ]
  },
  {
   "cell_type": "code",
   "execution_count": 12,
   "id": "6a6fa370-b602-447e-9e59-cf4bfa860746",
   "metadata": {},
   "outputs": [],
   "source": [
    "def test(id):\n",
    "    print(\"program %d\" % id)"
   ]
  },
  {
   "cell_type": "code",
   "execution_count": 13,
   "id": "5826f60c-b790-4228-85a6-d47368188bc5",
   "metadata": {},
   "outputs": [
    {
     "name": "stdout",
     "output_type": "stream",
     "text": [
      "program 24\n"
     ]
    }
   ],
   "source": [
    "test(24)\n"
   ]
  },
  {
   "cell_type": "code",
   "execution_count": 14,
   "id": "79f45eee-72de-4d50-bd7a-9a7d32065160",
   "metadata": {},
   "outputs": [],
   "source": [
    "thread = [threading.Thread(target = test , args=(i,)) for i in range(10)]"
   ]
  },
  {
   "cell_type": "code",
   "execution_count": 15,
   "id": "dbd089ff-ca11-43b4-91bf-b34538af0aff",
   "metadata": {},
   "outputs": [
    {
     "name": "stdout",
     "output_type": "stream",
     "text": [
      "program 0\n",
      "program 1\n",
      "program 2\n",
      "program 3\n",
      "program 4\n",
      "program 5\n",
      "program 6\n",
      "program 7\n",
      "program 8\n",
      "program 9\n"
     ]
    }
   ],
   "source": [
    "for t in thread :\n",
    "    t.start()"
   ]
  },
  {
   "cell_type": "code",
   "execution_count": 16,
   "id": "2120c56f-35de-441c-902d-77ce5ad10045",
   "metadata": {},
   "outputs": [
    {
     "data": {
      "text/plain": [
       "[0, 1, 2, 3, 4, 5, 6, 7, 8, 9]"
      ]
     },
     "execution_count": 16,
     "metadata": {},
     "output_type": "execute_result"
    }
   ],
   "source": [
    "list(range(10))"
   ]
  },
  {
   "cell_type": "code",
   "execution_count": 17,
   "id": "2c63bb1d-2231-496a-a515-6c47b8450f26",
   "metadata": {},
   "outputs": [
    {
     "data": {
      "text/plain": [
       "[<Thread(Thread-15 (test), stopped 140357987726912)>,\n",
       " <Thread(Thread-16 (test), stopped 140357987726912)>,\n",
       " <Thread(Thread-17 (test), stopped 140357987726912)>,\n",
       " <Thread(Thread-18 (test), stopped 140357987726912)>,\n",
       " <Thread(Thread-19 (test), stopped 140357987726912)>,\n",
       " <Thread(Thread-20 (test), stopped 140357987726912)>,\n",
       " <Thread(Thread-21 (test), stopped 140357987726912)>,\n",
       " <Thread(Thread-22 (test), stopped 140357987726912)>,\n",
       " <Thread(Thread-23 (test), stopped 140357987726912)>,\n",
       " <Thread(Thread-24 (test), stopped 140357987726912)>]"
      ]
     },
     "execution_count": 17,
     "metadata": {},
     "output_type": "execute_result"
    }
   ],
   "source": [
    "thread"
   ]
  },
  {
   "cell_type": "code",
   "execution_count": 19,
   "id": "6dbe8e28-f72f-4d87-9963-a22de047932f",
   "metadata": {},
   "outputs": [
    {
     "data": {
      "text/plain": [
       "140358330251328"
      ]
     },
     "execution_count": 19,
     "metadata": {},
     "output_type": "execute_result"
    }
   ],
   "source": [
    "id(thread)"
   ]
  },
  {
   "cell_type": "code",
   "execution_count": 20,
   "id": "ae6b5428-6f87-47be-b6c9-cfe67856242e",
   "metadata": {},
   "outputs": [],
   "source": [
    "import threading\n",
    "import urllib.request\n",
    "\n",
    "def file_download(url,filename):\n",
    "    urllib.request.urlretrive(url,filname)\n",
    "    "
   ]
  },
  {
   "cell_type": "code",
   "execution_count": 22,
   "id": "3062e5ef-e754-4ce6-88bd-38f97fa1dfbf",
   "metadata": {},
   "outputs": [
    {
     "ename": "TypeError",
     "evalue": "'function' object is not subscriptable",
     "output_type": "error",
     "traceback": [
      "\u001b[0;31m---------------------------------------------------------------------------\u001b[0m",
      "\u001b[0;31mTypeError\u001b[0m                                 Traceback (most recent call last)",
      "Cell \u001b[0;32mIn[22], line 1\u001b[0m\n\u001b[0;32m----> 1\u001b[0m \u001b[43mfile_download\u001b[49m\u001b[43m[\u001b[49m\u001b[38;5;124;43m\"\u001b[39;49m\u001b[38;5;124;43mhttps://Google.com\u001b[39;49m\u001b[38;5;124;43m\"\u001b[39;49m\u001b[43m]\u001b[49m\n",
      "\u001b[0;31mTypeError\u001b[0m: 'function' object is not subscriptable"
     ]
    }
   ],
   "source": [
    "file_download[\"https://Google.com\"]\n",
    "              "
   ]
  },
  {
   "cell_type": "code",
   "execution_count": 24,
   "id": "f1810f28-cc96-44da-8993-fdb5f5f50a28",
   "metadata": {},
   "outputs": [
    {
     "ename": "SyntaxError",
     "evalue": "invalid syntax (2739314997.py, line 1)",
     "output_type": "error",
     "traceback": [
      "\u001b[0;36m  Cell \u001b[0;32mIn[24], line 1\u001b[0;36m\u001b[0m\n\u001b[0;31m    threading.Thread(target=file_download , args = (url_list[i] ,file_name_list[i]), for i tn range(len(url_list)))\u001b[0m\n\u001b[0m                                                                                     ^\u001b[0m\n\u001b[0;31mSyntaxError\u001b[0m\u001b[0;31m:\u001b[0m invalid syntax\n"
     ]
    }
   ],
   "source": [
    "threading.Thread(target=file_download , args = (url_list[i] ,file_name_list[i]), for i tn range(len(url_list)))"
   ]
  },
  {
   "cell_type": "code",
   "execution_count": 32,
   "id": "cab3ddca-d94d-4d1e-811a-3b1f1f1d3e6a",
   "metadata": {},
   "outputs": [],
   "source": [
    "def test1 (id):\n",
    "    for i in range(10):\n",
    "        print(\"test1 %d printing %d\" %(id,i))"
   ]
  },
  {
   "cell_type": "code",
   "execution_count": 34,
   "id": "3246be6d-fba9-43be-be03-965b2e1d0272",
   "metadata": {},
   "outputs": [],
   "source": [
    " thread1 = [threading.Thread(target=test1 , args = (i,)) for i in range(3)]"
   ]
  },
  {
   "cell_type": "code",
   "execution_count": 35,
   "id": "de7c2519-99d3-45c4-84d2-b75f58abf45d",
   "metadata": {},
   "outputs": [
    {
     "ename": "RuntimeError",
     "evalue": "threads can only be started once",
     "output_type": "error",
     "traceback": [
      "\u001b[0;31m---------------------------------------------------------------------------\u001b[0m",
      "\u001b[0;31mRuntimeError\u001b[0m                              Traceback (most recent call last)",
      "Cell \u001b[0;32mIn[35], line 2\u001b[0m\n\u001b[1;32m      1\u001b[0m \u001b[38;5;28;01mfor\u001b[39;00m i \u001b[38;5;129;01min\u001b[39;00m thread1:\n\u001b[0;32m----> 2\u001b[0m     \u001b[43mt\u001b[49m\u001b[38;5;241;43m.\u001b[39;49m\u001b[43mstart\u001b[49m\u001b[43m(\u001b[49m\u001b[43m)\u001b[49m\n",
      "File \u001b[0;32m/opt/conda/lib/python3.10/threading.py:930\u001b[0m, in \u001b[0;36mThread.start\u001b[0;34m(self)\u001b[0m\n\u001b[1;32m    927\u001b[0m     \u001b[38;5;28;01mraise\u001b[39;00m \u001b[38;5;167;01mRuntimeError\u001b[39;00m(\u001b[38;5;124m\"\u001b[39m\u001b[38;5;124mthread.__init__() not called\u001b[39m\u001b[38;5;124m\"\u001b[39m)\n\u001b[1;32m    929\u001b[0m \u001b[38;5;28;01mif\u001b[39;00m \u001b[38;5;28mself\u001b[39m\u001b[38;5;241m.\u001b[39m_started\u001b[38;5;241m.\u001b[39mis_set():\n\u001b[0;32m--> 930\u001b[0m     \u001b[38;5;28;01mraise\u001b[39;00m \u001b[38;5;167;01mRuntimeError\u001b[39;00m(\u001b[38;5;124m\"\u001b[39m\u001b[38;5;124mthreads can only be started once\u001b[39m\u001b[38;5;124m\"\u001b[39m)\n\u001b[1;32m    932\u001b[0m \u001b[38;5;28;01mwith\u001b[39;00m _active_limbo_lock:\n\u001b[1;32m    933\u001b[0m     _limbo[\u001b[38;5;28mself\u001b[39m] \u001b[38;5;241m=\u001b[39m \u001b[38;5;28mself\u001b[39m\n",
      "\u001b[0;31mRuntimeError\u001b[0m: threads can only be started once"
     ]
    }
   ],
   "source": [
    "for i in thread1:\n",
    "    t.start()\n",
    "    "
   ]
  },
  {
   "cell_type": "markdown",
   "id": "e7903996-4ea1-45ea-bab0-f40f3491f84a",
   "metadata": {},
   "source": [
    "test1(0)"
   ]
  },
  {
   "cell_type": "code",
   "execution_count": 36,
   "id": "2caa5679-4da0-47db-923c-b8cc27bf2e64",
   "metadata": {},
   "outputs": [
    {
     "name": "stdout",
     "output_type": "stream",
     "text": [
      "program 1\n"
     ]
    }
   ],
   "source": [
    "test(1)"
   ]
  },
  {
   "cell_type": "code",
   "execution_count": null,
   "id": "ef681578-6c83-4717-8e3c-094a4f82533f",
   "metadata": {},
   "outputs": [],
   "source": []
  }
 ],
 "metadata": {
  "kernelspec": {
   "display_name": "Python 3 (ipykernel)",
   "language": "python",
   "name": "python3"
  },
  "language_info": {
   "codemirror_mode": {
    "name": "ipython",
    "version": 3
   },
   "file_extension": ".py",
   "mimetype": "text/x-python",
   "name": "python",
   "nbconvert_exporter": "python",
   "pygments_lexer": "ipython3",
   "version": "3.10.8"
  }
 },
 "nbformat": 4,
 "nbformat_minor": 5
}
