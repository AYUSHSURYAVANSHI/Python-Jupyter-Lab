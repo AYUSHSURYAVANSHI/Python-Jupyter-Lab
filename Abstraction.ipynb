{
 "cells": [
  {
   "cell_type": "code",
   "execution_count": 1,
   "id": "fff6ed73-c75d-4abd-9f0f-5d9d737f19ea",
   "metadata": {},
   "outputs": [],
   "source": [
    "import abc\n",
    "class pwskills:\n",
    "    @abc.abstractmethod\n",
    "    def students_detials(self):\n",
    "        pass\n",
    "    @abc.abstractmethod\n",
    "    def student(self):\n",
    "        pass\n",
    "    @abc.abstractmethod\n",
    "    "
   ]
  },
  {
   "cell_type": "code",
   "execution_count": 3,
   "id": "38e0c31b-0f82-4d60-944e-4df1e0791d42",
   "metadata": {},
   "outputs": [],
   "source": [
    "class student_detial(pwskills):\n",
    "    \n",
    "    def student_detials(self):\n",
    "        return \"this is a meth for taking student details\"\n",
    "    \n",
    "    def student_assignment(self):\n",
    "        return \"this is a meth for assing detials for a perticualt student\"\n",
    "    "
   ]
  },
  {
   "cell_type": "code",
   "execution_count": 4,
   "id": "267eb6d5-66ce-4582-ade2-f913c190b375",
   "metadata": {},
   "outputs": [],
   "source": [
    "class data_science_maters(pwskills):\n",
    "    \n",
    "    def student_detials(self):\n",
    "        return \"this will return a student details for data science master\"\n",
    "    def student_assignment(self):\n",
    "        return \" this will give you a student detaild for data masters\"\n",
    "    "
   ]
  },
  {
   "cell_type": "code",
   "execution_count": 10,
   "id": "2f0bee47-679a-486e-aaa4-efcec7057df7",
   "metadata": {},
   "outputs": [
    {
     "data": {
      "text/plain": [
       "'this will return a student details for data science master'"
      ]
     },
     "execution_count": 10,
     "metadata": {},
     "output_type": "execute_result"
    }
   ],
   "source": [
    "dsm = data_science_maters()\n",
    "dsm.student_detials()"
   ]
  },
  {
   "cell_type": "code",
   "execution_count": null,
   "id": "b979141c-ed61-46c0-a43f-e69cb385f670",
   "metadata": {},
   "outputs": [],
   "source": []
  },
  {
   "cell_type": "code",
   "execution_count": null,
   "id": "de887a82-1772-475b-97ba-1f8583c37f7a",
   "metadata": {},
   "outputs": [],
   "source": []
  }
 ],
 "metadata": {
  "kernelspec": {
   "display_name": "Python 3 (ipykernel)",
   "language": "python",
   "name": "python3"
  },
  "language_info": {
   "codemirror_mode": {
    "name": "ipython",
    "version": 3
   },
   "file_extension": ".py",
   "mimetype": "text/x-python",
   "name": "python",
   "nbconvert_exporter": "python",
   "pygments_lexer": "ipython3",
   "version": "3.10.8"
  }
 },
 "nbformat": 4,
 "nbformat_minor": 5
}
