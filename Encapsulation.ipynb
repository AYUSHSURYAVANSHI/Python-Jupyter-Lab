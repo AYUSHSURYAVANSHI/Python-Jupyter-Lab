{
 "cells": [
  {
   "cell_type": "code",
   "execution_count": 5,
   "id": "2156521f-c802-42c7-be07-e96ae00b32d1",
   "metadata": {},
   "outputs": [],
   "source": [
    "class test :\n",
    "    \n",
    "    def __init__(self,a,b):\n",
    "        self.a = a \n",
    "        self.b = b\n",
    "        "
   ]
  },
  {
   "cell_type": "code",
   "execution_count": 9,
   "id": "da84ea64-93dc-4acc-83d3-2add8001ae5c",
   "metadata": {},
   "outputs": [],
   "source": [
    "t = test(23,34)"
   ]
  },
  {
   "cell_type": "code",
   "execution_count": 7,
   "id": "79c1db6f-6c0f-4fdd-b4bb-eacb841fd86e",
   "metadata": {},
   "outputs": [],
   "source": [
    "t.a = 23444\n"
   ]
  },
  {
   "cell_type": "code",
   "execution_count": 8,
   "id": "c2a1b209-8b66-468e-adc5-c2616370ba78",
   "metadata": {},
   "outputs": [
    {
     "data": {
      "text/plain": [
       "23444"
      ]
     },
     "execution_count": 8,
     "metadata": {},
     "output_type": "execute_result"
    }
   ],
   "source": [
    "t.a"
   ]
  },
  {
   "cell_type": "code",
   "execution_count": 20,
   "id": "3babe733-d5ca-4853-b0b6-71e3317a4aed",
   "metadata": {},
   "outputs": [],
   "source": [
    "class car :\n",
    "    def __init__(self,year,make,model,speed):\n",
    "        self.__year = year \n",
    "        self.__make = make\n",
    "        self.__model = model\n",
    "        self.__speed = 0\n",
    "        \n",
    "    def set_speed(self,speed):\n",
    "        self.__speed = 0 if speed < 0 else speed\n",
    "    \n",
    "    def get_speed(self):\n",
    "        return self.__speed"
   ]
  },
  {
   "cell_type": "code",
   "execution_count": 14,
   "id": "e0e30e2f-2d66-4ce1-9588-5fce4da41a23",
   "metadata": {},
   "outputs": [],
   "source": [
    "c = car( 2021 , \"toyata\" , \"inova\", 12)"
   ]
  },
  {
   "cell_type": "code",
   "execution_count": 18,
   "id": "7565f83b-c5f7-4cf0-923a-1a4d5e089cdc",
   "metadata": {},
   "outputs": [
    {
     "data": {
      "text/plain": [
       "2021"
      ]
     },
     "execution_count": 18,
     "metadata": {},
     "output_type": "execute_result"
    }
   ],
   "source": [
    "c._car__year"
   ]
  },
  {
   "cell_type": "code",
   "execution_count": 37,
   "id": "5d48cfe0-12e3-4c15-ab39-37c7704d4697",
   "metadata": {},
   "outputs": [],
   "source": [
    "class bank_account :\n",
    "    def __init__(self , balance) :\n",
    "        self.__balance = balance\n",
    "    \n",
    "    def deposit(self , amount):\n",
    "        self.__balance = self.__balance + amount\n",
    "    \n",
    "    def withdaw(self , amount):\n",
    "        if self.__balance >= amount : \n",
    "            self.__balance = self._balance - amount\n",
    "            return True\n",
    "        else :\n",
    "            return False\n",
    "        \n",
    "    def get_balance(self):\n",
    "        return self.__balance\n",
    "    "
   ]
  },
  {
   "cell_type": "code",
   "execution_count": 38,
   "id": "47d47f82-2f5a-4293-b1fa-4699dd9fb1de",
   "metadata": {},
   "outputs": [],
   "source": [
    "subh = bank_account(1000)"
   ]
  },
  {
   "cell_type": "code",
   "execution_count": 39,
   "id": "064112c4-91b8-40c7-b05c-4f9a7d63aee6",
   "metadata": {},
   "outputs": [
    {
     "data": {
      "text/plain": [
       "1000"
      ]
     },
     "execution_count": 39,
     "metadata": {},
     "output_type": "execute_result"
    }
   ],
   "source": [
    "subh.get_balance()"
   ]
  },
  {
   "cell_type": "code",
   "execution_count": 40,
   "id": "63b8b9bb-1def-47fe-b6c0-515be6421a94",
   "metadata": {},
   "outputs": [],
   "source": [
    "subh.deposit(50000)"
   ]
  },
  {
   "cell_type": "code",
   "execution_count": 44,
   "id": "e04f7b5d-a29e-4350-8582-0574451eb6aa",
   "metadata": {},
   "outputs": [
    {
     "data": {
      "text/plain": [
       "51000"
      ]
     },
     "execution_count": 44,
     "metadata": {},
     "output_type": "execute_result"
    }
   ],
   "source": [
    "subh.get_balance()\n"
   ]
  },
  {
   "cell_type": "code",
   "execution_count": null,
   "id": "5230c590-32b7-4bb6-ab38-0badd30b405a",
   "metadata": {},
   "outputs": [],
   "source": []
  },
  {
   "cell_type": "code",
   "execution_count": null,
   "id": "1c4ce8d1-1468-41a0-8a7d-a549d356e77d",
   "metadata": {},
   "outputs": [],
   "source": [
    "\n",
    "\n"
   ]
  }
 ],
 "metadata": {
  "kernelspec": {
   "display_name": "Python 3 (ipykernel)",
   "language": "python",
   "name": "python3"
  },
  "language_info": {
   "codemirror_mode": {
    "name": "ipython",
    "version": 3
   },
   "file_extension": ".py",
   "mimetype": "text/x-python",
   "name": "python",
   "nbconvert_exporter": "python",
   "pygments_lexer": "ipython3",
   "version": "3.10.8"
  }
 },
 "nbformat": 4,
 "nbformat_minor": 5
}
