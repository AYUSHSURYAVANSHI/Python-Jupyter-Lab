{
 "cells": [
  {
   "cell_type": "code",
   "execution_count": null,
   "id": "ff0bbcde-26f7-412e-bbca-6bc9aa1a2970",
   "metadata": {},
   "outputs": [],
   "source": [
    "age = int(input(\"Enter your age\"))\n"
   ]
  },
  {
   "cell_type": "code",
   "execution_count": null,
   "id": "26c55e49-270a-4867-8d35-1f21df095b42",
   "metadata": {},
   "outputs": [],
   "source": [
    "class validateage(Exception):\n",
    "    \n",
    "    def __init__(self,msg):\n",
    "        self.msg = msg\n",
    "        \n",
    "    "
   ]
  },
  {
   "cell_type": "code",
   "execution_count": null,
   "id": "26cfa338-5fba-414a-966b-82aa939f420c",
   "metadata": {},
   "outputs": [],
   "source": [
    "def validateage(age):\n",
    "    if age < 0:\n",
    "        raise validateage(\"Enter age us Negative\")\n",
    "    elif age > 20:\n",
    "        raise validateage(\"enterd age is very very high\")\n",
    "    else:\n",
    "        print(\"age is valid\")"
   ]
  },
  {
   "cell_type": "code",
   "execution_count": null,
   "id": "1db5905d-3511-4b20-a24c-1a514a5f96d1",
   "metadata": {},
   "outputs": [],
   "source": [
    "try :\n",
    "    age = int(input(\"Enter  Your Age\"))\n",
    "    validateage(age)\n",
    "except validateage as e :\n",
    "    print(e)"
   ]
  },
  {
   "cell_type": "code",
   "execution_count": null,
   "id": "f2b0f75e-35ee-408c-96e8-33bd53ea2ba8",
   "metadata": {},
   "outputs": [],
   "source": []
  }
 ],
 "metadata": {
  "kernelspec": {
   "display_name": "Python 3 (ipykernel)",
   "language": "python",
   "name": "python3"
  },
  "language_info": {
   "codemirror_mode": {
    "name": "ipython",
    "version": 3
   },
   "file_extension": ".py",
   "mimetype": "text/x-python",
   "name": "python",
   "nbconvert_exporter": "python",
   "pygments_lexer": "ipython3",
   "version": "3.10.8"
  }
 },
 "nbformat": 4,
 "nbformat_minor": 5
}
