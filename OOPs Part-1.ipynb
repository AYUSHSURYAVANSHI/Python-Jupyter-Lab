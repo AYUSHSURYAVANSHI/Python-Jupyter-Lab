{
 "cells": [
  {
   "cell_type": "code",
   "execution_count": 1,
   "id": "bf7da2b5-c33e-42ab-8ef6-7ab2d6227f3c",
   "metadata": {},
   "outputs": [],
   "source": [
    "a = 1"
   ]
  },
  {
   "cell_type": "code",
   "execution_count": 2,
   "id": "dbbf236f-4a6b-46c2-b3e1-95ddc429310a",
   "metadata": {},
   "outputs": [
    {
     "name": "stdout",
     "output_type": "stream",
     "text": [
      "<class 'int'>\n"
     ]
    }
   ],
   "source": [
    "print(type(a))"
   ]
  },
  {
   "cell_type": "code",
   "execution_count": 3,
   "id": "33f201ce-e0c2-42bf-b055-fd708d0f4eab",
   "metadata": {},
   "outputs": [
    {
     "name": "stdout",
     "output_type": "stream",
     "text": [
      "<class 'str'>\n"
     ]
    }
   ],
   "source": [
    "print(type(\"pwskills\"))"
   ]
  },
  {
   "cell_type": "code",
   "execution_count": 5,
   "id": "d5a51660-e791-4f99-a9a8-73e972e977c4",
   "metadata": {},
   "outputs": [],
   "source": [
    "class test :\n",
    "    pass"
   ]
  },
  {
   "cell_type": "code",
   "execution_count": 6,
   "id": "6e8552ab-3775-4c6f-b74e-83a33de2a404",
   "metadata": {},
   "outputs": [],
   "source": [
    "a = test()"
   ]
  },
  {
   "cell_type": "code",
   "execution_count": 7,
   "id": "0325c3be-f53f-4a19-8062-d496805db6ea",
   "metadata": {},
   "outputs": [
    {
     "data": {
      "text/plain": [
       "__main__.test"
      ]
     },
     "execution_count": 7,
     "metadata": {},
     "output_type": "execute_result"
    }
   ],
   "source": [
    "type(a)"
   ]
  },
  {
   "cell_type": "code",
   "execution_count": 8,
   "id": "73ac78e6-9555-4b11-ab85-d30c6cf7b3c7",
   "metadata": {},
   "outputs": [
    {
     "name": "stdout",
     "output_type": "stream",
     "text": [
      "<class '__main__.test'>\n"
     ]
    }
   ],
   "source": [
    "print(type(a))"
   ]
  },
  {
   "cell_type": "code",
   "execution_count": 18,
   "id": "72437b41-b9d9-4435-8f48-91823562b7d7",
   "metadata": {},
   "outputs": [],
   "source": [
    "class PwSkills:\n",
    "    def welcome_msg():\n",
    "        print(\"welcome to pwskills\")"
   ]
  },
  {
   "cell_type": "code",
   "execution_count": 19,
   "id": "5bd63cf5-70bd-4c35-a716-e2012a5697ee",
   "metadata": {},
   "outputs": [],
   "source": [
    "rohan = PwSkills()"
   ]
  },
  {
   "cell_type": "code",
   "execution_count": 20,
   "id": "b8b52895-5c24-4209-bb56-8b76de4985de",
   "metadata": {},
   "outputs": [
    {
     "name": "stdout",
     "output_type": "stream",
     "text": [
      "<class '__main__.PwSkills'>\n"
     ]
    }
   ],
   "source": [
    "print(type(rohan))"
   ]
  },
  {
   "cell_type": "code",
   "execution_count": 21,
   "id": "e69f0347-3e78-4763-88f9-3a6fe55ae477",
   "metadata": {},
   "outputs": [
    {
     "ename": "TypeError",
     "evalue": "PwSkills.welcome_msg() takes 0 positional arguments but 1 was given",
     "output_type": "error",
     "traceback": [
      "\u001b[0;31m---------------------------------------------------------------------------\u001b[0m",
      "\u001b[0;31mTypeError\u001b[0m                                 Traceback (most recent call last)",
      "Cell \u001b[0;32mIn[21], line 1\u001b[0m\n\u001b[0;32m----> 1\u001b[0m \u001b[43mrohan\u001b[49m\u001b[38;5;241;43m.\u001b[39;49m\u001b[43mwelcome_msg\u001b[49m\u001b[43m(\u001b[49m\u001b[43m)\u001b[49m\n",
      "\u001b[0;31mTypeError\u001b[0m: PwSkills.welcome_msg() takes 0 positional arguments but 1 was given"
     ]
    }
   ],
   "source": [
    "rohan.welcome_msg()"
   ]
  },
  {
   "cell_type": "code",
   "execution_count": 28,
   "id": "e4a1ca1d-0351-4c10-b1f2-22d2c00b113c",
   "metadata": {},
   "outputs": [],
   "source": [
    "class pwskills1 :\n",
    "    def __init__(self,name,phone_number,student_id):\n",
    "        self.name = name \n",
    "        self.phone_number = phone_number\n",
    "        self.student_id = student_id\n",
    "        \n",
    "    def return_student_deetials(self):\n",
    "        return self.name, self.phone_number , self.student_id\n",
    "    "
   ]
  },
  {
   "cell_type": "code",
   "execution_count": 29,
   "id": "ae07dc0a-4e68-4226-b62c-d939dc2d8516",
   "metadata": {},
   "outputs": [],
   "source": [
    "ayu = pwskills1(\"ayush\" , 1234344 , 233)"
   ]
  },
  {
   "cell_type": "code",
   "execution_count": 30,
   "id": "0bcaa73a-a64e-4207-879b-824fe0499bd9",
   "metadata": {},
   "outputs": [
    {
     "name": "stdout",
     "output_type": "stream",
     "text": [
      "<__main__.pwskills1 object at 0x7f7cfc37b490>\n"
     ]
    }
   ],
   "source": [
    "print(ayu)"
   ]
  },
  {
   "cell_type": "code",
   "execution_count": 31,
   "id": "9004ee10-c66e-4de5-aeb9-33ec273515f0",
   "metadata": {},
   "outputs": [
    {
     "data": {
      "text/plain": [
       "('ayush', 1234344, 233)"
      ]
     },
     "execution_count": 31,
     "metadata": {},
     "output_type": "execute_result"
    }
   ],
   "source": [
    "ayu.return_student_deetials()"
   ]
  },
  {
   "cell_type": "code",
   "execution_count": 33,
   "id": "caf26f7d-dad3-4a38-9c0f-d975c0574ce5",
   "metadata": {},
   "outputs": [
    {
     "data": {
      "text/plain": [
       "1234344"
      ]
     },
     "execution_count": 33,
     "metadata": {},
     "output_type": "execute_result"
    }
   ],
   "source": [
    "ayu.phone_number"
   ]
  },
  {
   "cell_type": "code",
   "execution_count": 34,
   "id": "c4a490e5-8c20-4543-b1a2-f11e8ed6e0eb",
   "metadata": {},
   "outputs": [
    {
     "data": {
      "text/plain": [
       "233"
      ]
     },
     "execution_count": 34,
     "metadata": {},
     "output_type": "execute_result"
    }
   ],
   "source": [
    "ayu.student_id"
   ]
  },
  {
   "cell_type": "code",
   "execution_count": null,
   "id": "6bd462f6-a949-464e-8e08-21307434c01b",
   "metadata": {},
   "outputs": [],
   "source": []
  }
 ],
 "metadata": {
  "kernelspec": {
   "display_name": "Python 3 (ipykernel)",
   "language": "python",
   "name": "python3"
  },
  "language_info": {
   "codemirror_mode": {
    "name": "ipython",
    "version": 3
   },
   "file_extension": ".py",
   "mimetype": "text/x-python",
   "name": "python",
   "nbconvert_exporter": "python",
   "pygments_lexer": "ipython3",
   "version": "3.10.8"
  }
 },
 "nbformat": 4,
 "nbformat_minor": 5
}
