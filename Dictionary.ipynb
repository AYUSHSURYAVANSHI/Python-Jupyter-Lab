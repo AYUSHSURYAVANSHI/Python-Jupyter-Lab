{
 "cells": [
  {
   "cell_type": "code",
   "execution_count": null,
   "id": "e4852327-0b7d-4b90-9464-75209812f105",
   "metadata": {},
   "outputs": [],
   "source": [
    "type(d)"
   ]
  },
  {
   "cell_type": "code",
   "execution_count": null,
   "id": "79402269-6ea1-4ab9-a1e6-c680d99b5297",
   "metadata": {},
   "outputs": [],
   "source": [
    "d1 = {'name' : 'Ayuah','class': '12th'}"
   ]
  },
  {
   "cell_type": "code",
   "execution_count": null,
   "id": "96719422-b07e-4ff1-8e25-26ca15c3aff2",
   "metadata": {},
   "outputs": [],
   "source": [
    "d1"
   ]
  },
  {
   "cell_type": "code",
   "execution_count": null,
   "id": "c18431c9-c80f-400f-8eb2-cc8b1ee29a91",
   "metadata": {},
   "outputs": [],
   "source": [
    "d2 = {34 : \"ayush\",\"name\" : \"Ayush\"}"
   ]
  },
  {
   "cell_type": "code",
   "execution_count": null,
   "id": "695fffaf-18dd-4a5a-877b-c0a46b630962",
   "metadata": {},
   "outputs": [],
   "source": [
    "type(d2)"
   ]
  },
  {
   "cell_type": "code",
   "execution_count": null,
   "id": "368c975d-d05e-4394-b777-f2a7b3695978",
   "metadata": {},
   "outputs": [],
   "source": [
    "d2['name']"
   ]
  },
  {
   "cell_type": "code",
   "execution_count": null,
   "id": "af64e7db-a258-4557-9bbf-b57b39fd9bc6",
   "metadata": {},
   "outputs": [],
   "source": [
    "d2[34]"
   ]
  },
  {
   "cell_type": "code",
   "execution_count": null,
   "id": "d8aa44bf-41c6-4b6b-bd6b-b4f2aa1b618d",
   "metadata": {},
   "outputs": [],
   "source": [
    "d4 = {'name' : 'Ayush','mail' : 'surywanshiayush@gmail.com'}"
   ]
  },
  {
   "cell_type": "code",
   "execution_count": null,
   "id": "f4541679-c303-46f7-b445-9a9ff896a750",
   "metadata": {},
   "outputs": [],
   "source": [
    "d4"
   ]
  },
  {
   "cell_type": "code",
   "execution_count": null,
   "id": "0f525814-fd42-493e-95e1-69682b53bb15",
   "metadata": {},
   "outputs": [],
   "source": [
    "d4['mail']"
   ]
  },
  {
   "cell_type": "code",
   "execution_count": null,
   "id": "0c722bf7-5058-4d93-9c04-bb579d4bc9c6",
   "metadata": {},
   "outputs": [],
   "source": [
    "d3 = {'company' : \"pwkills\",\"course\" : ['web dev','data science']} "
   ]
  },
  {
   "cell_type": "code",
   "execution_count": null,
   "id": "454798e9-88d0-400d-991b-70175c9a9a2f",
   "metadata": {},
   "outputs": [],
   "source": [
    "d3"
   ]
  },
  {
   "cell_type": "code",
   "execution_count": null,
   "id": "3d8e5b7a-2976-4ae0-acd0-04cf82190347",
   "metadata": {},
   "outputs": [],
   "source": [
    "d3['course'][1]"
   ]
  },
  {
   "cell_type": "code",
   "execution_count": null,
   "id": "b56cd81c-9d27-4fc6-b133-d90ca577e882",
   "metadata": {},
   "outputs": [],
   "source": [
    "d3['mentor'] = ['Ayush','Monika','Prerna']"
   ]
  },
  {
   "cell_type": "code",
   "execution_count": null,
   "id": "c1abfe13-3df9-4264-bfff-a99b402948ca",
   "metadata": {},
   "outputs": [],
   "source": [
    "d3"
   ]
  },
  {
   "cell_type": "code",
   "execution_count": null,
   "id": "5e80f109-8e02-4938-89b2-2e162201e03e",
   "metadata": {},
   "outputs": [],
   "source": [
    "del d3['mentor']"
   ]
  },
  {
   "cell_type": "code",
   "execution_count": null,
   "id": "077478fb-8b3e-4288-a70d-8f7f0d7f64ed",
   "metadata": {},
   "outputs": [],
   "source": [
    "d3"
   ]
  },
  {
   "cell_type": "code",
   "execution_count": null,
   "id": "7357c6c6-84ec-492b-b123-95de910ee73f",
   "metadata": {},
   "outputs": [],
   "source": [
    "d3.keys()"
   ]
  },
  {
   "cell_type": "code",
   "execution_count": null,
   "id": "534ce5cb-62d4-4449-9c0b-5e9adb4a89bb",
   "metadata": {},
   "outputs": [],
   "source": [
    "list(d3)"
   ]
  },
  {
   "cell_type": "code",
   "execution_count": null,
   "id": "aacae5fe-0458-46a8-a7b2-41e396bcb280",
   "metadata": {},
   "outputs": [],
   "source": [
    "d3"
   ]
  },
  {
   "cell_type": "code",
   "execution_count": null,
   "id": "49336338-7bcd-4885-8b43-18052084a43d",
   "metadata": {},
   "outputs": [],
   "source": [
    "d3"
   ]
  },
  {
   "cell_type": "code",
   "execution_count": null,
   "id": "ce1f0d15-89db-465e-b607-d1b54f8ad0f2",
   "metadata": {},
   "outputs": [],
   "source": [
    "d3.pop('company')"
   ]
  },
  {
   "cell_type": "code",
   "execution_count": null,
   "id": "46bfb589-b2cc-4924-b16d-278be87f1418",
   "metadata": {},
   "outputs": [],
   "source": [
    "d3"
   ]
  },
  {
   "cell_type": "code",
   "execution_count": null,
   "id": "78251ea9-da4f-4f0a-8ebf-0ca496400898",
   "metadata": {},
   "outputs": [],
   "source": [
    "marks = int(input(\"Enter a Number : \"))\n",
    "if  marks >= 80:\n",
    "    print(\"you will be a part of A0 Batch\")\n",
    "elif marks >= 60:\n",
    "    print(\"you will be a part of A1 Batch\")\n",
    "elif marks >= 40:\n",
    "    print(\"you will be a part of A2 Batch\")\n",
    "else:\n",
    "    print(\"you will be a part of A4 Batch\")\n"
   ]
  },
  {
   "cell_type": "code",
   "execution_count": null,
   "id": "61bf8488-4bba-4318-b363-05abee24e562",
   "metadata": {},
   "outputs": [],
   "source": [
    "type(marks)\n"
   ]
  },
  {
   "cell_type": "code",
   "execution_count": null,
   "id": "eb0148a3-3af7-47c4-94ed-a8a8c5abe6b0",
   "metadata": {},
   "outputs": [],
   "source": [
    "HELLO"
   ]
  },
  {
   "cell_type": "code",
   "execution_count": null,
   "id": "5188d288-b723-45f6-8cd2-02a3ffd32c43",
   "metadata": {},
   "outputs": [],
   "source": []
  },
  {
   "cell_type": "code",
   "execution_count": null,
   "id": "0311422f-c29a-487b-aef6-e4f0a42e2d46",
   "metadata": {},
   "outputs": [],
   "source": [
    "print(23)"
   ]
  },
  {
   "cell_type": "code",
   "execution_count": null,
   "id": "5883bb0e-317d-4cf6-911b-55d39ca23e32",
   "metadata": {},
   "outputs": [],
   "source": []
  }
 ],
 "metadata": {
  "kernelspec": {
   "display_name": "Python 3 (ipykernel)",
   "language": "python",
   "name": "python3"
  },
  "language_info": {
   "codemirror_mode": {
    "name": "ipython",
    "version": 3
   },
   "file_extension": ".py",
   "mimetype": "text/x-python",
   "name": "python",
   "nbconvert_exporter": "python",
   "pygments_lexer": "ipython3",
   "version": "3.10.8"
  }
 },
 "nbformat": 4,
 "nbformat_minor": 5
}
