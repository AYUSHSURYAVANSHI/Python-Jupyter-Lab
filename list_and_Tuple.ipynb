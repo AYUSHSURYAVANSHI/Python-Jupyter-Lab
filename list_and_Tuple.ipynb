{
 "cells": [
  {
   "cell_type": "code",
   "execution_count": 4,
   "id": "21ab973f-f8db-4efb-92fc-c1ca0ba1f017",
   "metadata": {},
   "outputs": [],
   "source": [
    "l = [1,345,7.9,'hello',34,23,5.9]\n"
   ]
  },
  {
   "cell_type": "code",
   "execution_count": 5,
   "id": "8bc895b3-8fe4-4aff-99de-0da9c4f6fded",
   "metadata": {},
   "outputs": [
    {
     "data": {
      "text/plain": [
       "list"
      ]
     },
     "execution_count": 5,
     "metadata": {},
     "output_type": "execute_result"
    }
   ],
   "source": [
    "type(l)"
   ]
  },
  {
   "cell_type": "code",
   "execution_count": 6,
   "id": "1b1d6a41-b44c-41b7-9c38-fcc7baec67c3",
   "metadata": {},
   "outputs": [
    {
     "data": {
      "text/plain": [
       "7.9"
      ]
     },
     "execution_count": 6,
     "metadata": {},
     "output_type": "execute_result"
    }
   ],
   "source": [
    "l[2]"
   ]
  },
  {
   "cell_type": "code",
   "execution_count": 7,
   "id": "7cda1c7d-ec84-4a23-9a74-cdf671efd8f5",
   "metadata": {},
   "outputs": [
    {
     "data": {
      "text/plain": [
       "5.9"
      ]
     },
     "execution_count": 7,
     "metadata": {},
     "output_type": "execute_result"
    }
   ],
   "source": [
    "l[-1]"
   ]
  },
  {
   "cell_type": "code",
   "execution_count": 8,
   "id": "a9f91ba4-a30c-4865-be6f-61ef72de5b91",
   "metadata": {},
   "outputs": [
    {
     "data": {
      "text/plain": [
       "[5.9, 23, 34, 'hello', 7.9, 345, 1]"
      ]
     },
     "execution_count": 8,
     "metadata": {},
     "output_type": "execute_result"
    }
   ],
   "source": [
    "l[::-1]"
   ]
  },
  {
   "cell_type": "code",
   "execution_count": 9,
   "id": "84273dc4-fa8e-419b-9329-66e7938b1938",
   "metadata": {},
   "outputs": [
    {
     "data": {
      "text/plain": [
       "[7.9]"
      ]
     },
     "execution_count": 9,
     "metadata": {},
     "output_type": "execute_result"
    }
   ],
   "source": [
    "l[2:3:1]"
   ]
  },
  {
   "cell_type": "code",
   "execution_count": 10,
   "id": "af164912-8225-4c3d-9b4b-fbb967931c5e",
   "metadata": {},
   "outputs": [
    {
     "data": {
      "text/plain": [
       "7.9"
      ]
     },
     "execution_count": 10,
     "metadata": {},
     "output_type": "execute_result"
    }
   ],
   "source": [
    "l[2]"
   ]
  },
  {
   "cell_type": "code",
   "execution_count": 11,
   "id": "8c019b88-9aed-4fc8-bc90-598b0082bb2d",
   "metadata": {},
   "outputs": [
    {
     "data": {
      "text/plain": [
       "23"
      ]
     },
     "execution_count": 11,
     "metadata": {},
     "output_type": "execute_result"
    }
   ],
   "source": [
    "l[5]\n"
   ]
  },
  {
   "cell_type": "code",
   "execution_count": 12,
   "id": "5f57a9c9-eece-4c0d-9de7-dd9385197d1d",
   "metadata": {},
   "outputs": [
    {
     "data": {
      "text/plain": [
       "[5.9, 34, 7.9, 1]"
      ]
     },
     "execution_count": 12,
     "metadata": {},
     "output_type": "execute_result"
    }
   ],
   "source": [
    "l[::-2]"
   ]
  },
  {
   "cell_type": "code",
   "execution_count": 13,
   "id": "487a34d7-23c1-4f3e-8395-cd269d742538",
   "metadata": {},
   "outputs": [],
   "source": [
    "n =\"skills\""
   ]
  },
  {
   "cell_type": "code",
   "execution_count": 14,
   "id": "162b7552-67c3-43cc-bcec-ddbd4d5f5379",
   "metadata": {},
   "outputs": [
    {
     "data": {
      "text/plain": [
       "str"
      ]
     },
     "execution_count": 14,
     "metadata": {},
     "output_type": "execute_result"
    }
   ],
   "source": [
    "type(n)"
   ]
  },
  {
   "cell_type": "code",
   "execution_count": 15,
   "id": "b7901b6a-2447-4f82-8e8c-7bf326980968",
   "metadata": {},
   "outputs": [
    {
     "data": {
      "text/plain": [
       "'e'"
      ]
     },
     "execution_count": 15,
     "metadata": {},
     "output_type": "execute_result"
    }
   ],
   "source": [
    "l[3][1]"
   ]
  },
  {
   "cell_type": "code",
   "execution_count": 16,
   "id": "065cab9e-f18b-4ed9-97bc-f869f441a56c",
   "metadata": {},
   "outputs": [
    {
     "data": {
      "text/plain": [
       "'l'"
      ]
     },
     "execution_count": 16,
     "metadata": {},
     "output_type": "execute_result"
    }
   ],
   "source": [
    "l[3][2]"
   ]
  },
  {
   "cell_type": "code",
   "execution_count": 17,
   "id": "490cc906-724e-467d-944f-61792f967edc",
   "metadata": {},
   "outputs": [
    {
     "name": "stdout",
     "output_type": "stream",
     "text": [
      "[1, 345, 7.9, 'hello', 34, 23, 5.9]\n"
     ]
    }
   ],
   "source": [
    "print(l)"
   ]
  },
  {
   "cell_type": "code",
   "execution_count": 18,
   "id": "2789ffd2-840a-42cc-a526-34c0f65d5ce6",
   "metadata": {},
   "outputs": [],
   "source": [
    "l1 = [2,4,5,6,5,4]\n"
   ]
  },
  {
   "cell_type": "code",
   "execution_count": 19,
   "id": "b037fd44-2b02-4c79-b5d7-904b0f69c848",
   "metadata": {},
   "outputs": [],
   "source": [
    "l2 = [4,6,55,44,22]\n"
   ]
  },
  {
   "cell_type": "code",
   "execution_count": 20,
   "id": "96f6dc5e-d4f4-4ff0-814b-2bff13ca5f98",
   "metadata": {},
   "outputs": [
    {
     "data": {
      "text/plain": [
       "[2, 4, 5, 6, 5, 4, 4, 6, 55, 44, 22]"
      ]
     },
     "execution_count": 20,
     "metadata": {},
     "output_type": "execute_result"
    }
   ],
   "source": [
    "l1 + l2"
   ]
  },
  {
   "cell_type": "code",
   "execution_count": 21,
   "id": "4695ce7a-227e-45e3-b583-0405154695cb",
   "metadata": {},
   "outputs": [
    {
     "data": {
      "text/plain": [
       "6"
      ]
     },
     "execution_count": 21,
     "metadata": {},
     "output_type": "execute_result"
    }
   ],
   "source": [
    "len(l1)"
   ]
  },
  {
   "cell_type": "code",
   "execution_count": 22,
   "id": "39c88be2-1357-48fe-8a1c-b767e9e91852",
   "metadata": {},
   "outputs": [
    {
     "data": {
      "text/plain": [
       "5"
      ]
     },
     "execution_count": 22,
     "metadata": {},
     "output_type": "execute_result"
    }
   ],
   "source": [
    "len(l2)\n"
   ]
  },
  {
   "cell_type": "code",
   "execution_count": 23,
   "id": "56707171-15c9-48a7-ac4d-f514c2f25196",
   "metadata": {},
   "outputs": [],
   "source": [
    "l.append(l2)"
   ]
  },
  {
   "cell_type": "code",
   "execution_count": 24,
   "id": "5be13530-b718-40a1-ad33-2c920786fa26",
   "metadata": {},
   "outputs": [
    {
     "data": {
      "text/plain": [
       "[1, 345, 7.9, 'hello', 34, 23, 5.9, [4, 6, 55, 44, 22]]"
      ]
     },
     "execution_count": 24,
     "metadata": {},
     "output_type": "execute_result"
    }
   ],
   "source": [
    "l"
   ]
  },
  {
   "cell_type": "code",
   "execution_count": 25,
   "id": "c94de4c9-ad18-44bb-9619-1e95fca6c4ed",
   "metadata": {},
   "outputs": [],
   "source": [
    "l1.extend(\"hello\")"
   ]
  },
  {
   "cell_type": "code",
   "execution_count": 26,
   "id": "ca53ca49-be29-4a69-87e1-1019bb5c11a4",
   "metadata": {},
   "outputs": [
    {
     "data": {
      "text/plain": [
       "[2, 4, 5, 6, 5, 4, 'h', 'e', 'l', 'l', 'o']"
      ]
     },
     "execution_count": 26,
     "metadata": {},
     "output_type": "execute_result"
    }
   ],
   "source": [
    "l1"
   ]
  },
  {
   "cell_type": "code",
   "execution_count": 29,
   "id": "2cc567e7-c4a9-4f0e-81a9-4118b588fc3f",
   "metadata": {},
   "outputs": [
    {
     "data": {
      "text/plain": [
       "'he'"
      ]
     },
     "execution_count": 29,
     "metadata": {},
     "output_type": "execute_result"
    }
   ],
   "source": [
    "l[3][:2]"
   ]
  },
  {
   "cell_type": "code",
   "execution_count": 30,
   "id": "cf8f6609-26e7-4c70-9f2a-396691f97305",
   "metadata": {},
   "outputs": [
    {
     "data": {
      "text/plain": [
       "[1, 345, 7.9, 'hello', 34, 23, 5.9, [4, 6, 55, 44, 22]]"
      ]
     },
     "execution_count": 30,
     "metadata": {},
     "output_type": "execute_result"
    }
   ],
   "source": [
    "l"
   ]
  },
  {
   "cell_type": "code",
   "execution_count": 32,
   "id": "4b9dfc8e-2e5c-47e5-8929-29107f0ffec4",
   "metadata": {},
   "outputs": [
    {
     "data": {
      "text/plain": [
       "[1,\n",
       " 345,\n",
       " 7.9,\n",
       " 'hello',\n",
       " 34,\n",
       " 23,\n",
       " 5.9,\n",
       " [4, 6, 55, 44, 22],\n",
       " 2,\n",
       " 4,\n",
       " 5,\n",
       " 6,\n",
       " 5,\n",
       " 4,\n",
       " 'h',\n",
       " 'e',\n",
       " 'l',\n",
       " 'l',\n",
       " 'o']"
      ]
     },
     "execution_count": 32,
     "metadata": {},
     "output_type": "execute_result"
    }
   ],
   "source": [
    "l + l1"
   ]
  },
  {
   "cell_type": "code",
   "execution_count": 33,
   "id": "23dabd3a-b893-4900-bda0-f57177b42f49",
   "metadata": {},
   "outputs": [
    {
     "data": {
      "text/plain": [
       "[2,\n",
       " 4,\n",
       " 5,\n",
       " 6,\n",
       " 5,\n",
       " 4,\n",
       " 'h',\n",
       " 'e',\n",
       " 'l',\n",
       " 'l',\n",
       " 'o',\n",
       " 2,\n",
       " 4,\n",
       " 5,\n",
       " 6,\n",
       " 5,\n",
       " 4,\n",
       " 'h',\n",
       " 'e',\n",
       " 'l',\n",
       " 'l',\n",
       " 'o',\n",
       " 2,\n",
       " 4,\n",
       " 5,\n",
       " 6,\n",
       " 5,\n",
       " 4,\n",
       " 'h',\n",
       " 'e',\n",
       " 'l',\n",
       " 'l',\n",
       " 'o']"
      ]
     },
     "execution_count": 33,
     "metadata": {},
     "output_type": "execute_result"
    }
   ],
   "source": [
    "l1 *3"
   ]
  },
  {
   "cell_type": "code",
   "execution_count": 34,
   "id": "4373d871-c41f-4971-9316-be4e1cf55376",
   "metadata": {},
   "outputs": [
    {
     "data": {
      "text/plain": [
       "[1, 345, 7.9, 'hello', 34, 23, 5.9, [4, 6, 55, 44, 22]]"
      ]
     },
     "execution_count": 34,
     "metadata": {},
     "output_type": "execute_result"
    }
   ],
   "source": [
    "l"
   ]
  },
  {
   "cell_type": "code",
   "execution_count": 35,
   "id": "066b5402-29dd-4cbb-8cef-875bca4b12f2",
   "metadata": {},
   "outputs": [
    {
     "data": {
      "text/plain": [
       "8"
      ]
     },
     "execution_count": 35,
     "metadata": {},
     "output_type": "execute_result"
    }
   ],
   "source": [
    "len(l)"
   ]
  },
  {
   "cell_type": "code",
   "execution_count": 36,
   "id": "39b4ed44-7814-4673-93d5-8b3a777e83b7",
   "metadata": {},
   "outputs": [],
   "source": [
    "l.append(5)"
   ]
  },
  {
   "cell_type": "code",
   "execution_count": 37,
   "id": "eff8a8b7-3563-4d2b-814c-98d35316b0bb",
   "metadata": {},
   "outputs": [
    {
     "data": {
      "text/plain": [
       "[1, 345, 7.9, 'hello', 34, 23, 5.9, [4, 6, 55, 44, 22], 5]"
      ]
     },
     "execution_count": 37,
     "metadata": {},
     "output_type": "execute_result"
    }
   ],
   "source": [
    "l"
   ]
  },
  {
   "cell_type": "code",
   "execution_count": 38,
   "id": "e9b82762-d211-46b0-b88b-a14e3e4f226e",
   "metadata": {},
   "outputs": [
    {
     "data": {
      "text/plain": [
       "5"
      ]
     },
     "execution_count": 38,
     "metadata": {},
     "output_type": "execute_result"
    }
   ],
   "source": [
    "l[-1]"
   ]
  },
  {
   "cell_type": "code",
   "execution_count": 40,
   "id": "6f6e4394-fdac-41db-8465-d5f38df87602",
   "metadata": {},
   "outputs": [
    {
     "data": {
      "text/plain": [
       "6"
      ]
     },
     "execution_count": 40,
     "metadata": {},
     "output_type": "execute_result"
    }
   ],
   "source": [
    "l[-2][1]"
   ]
  },
  {
   "cell_type": "code",
   "execution_count": 42,
   "id": "d6b0e9ff-53c5-4239-941c-a51967010af7",
   "metadata": {},
   "outputs": [],
   "source": [
    "l.extend('4')"
   ]
  },
  {
   "cell_type": "code",
   "execution_count": 43,
   "id": "29645ae4-a259-4f78-8d6b-5b69f361ecbb",
   "metadata": {},
   "outputs": [
    {
     "data": {
      "text/plain": [
       "[1, 345, 7.9, 'hello', 34, 23, 5.9, [4, 6, 55, 44, 22], 5, '4']"
      ]
     },
     "execution_count": 43,
     "metadata": {},
     "output_type": "execute_result"
    }
   ],
   "source": [
    "l"
   ]
  },
  {
   "cell_type": "code",
   "execution_count": 44,
   "id": "c7da3c1c-14ac-406c-a917-dd22229a1423",
   "metadata": {},
   "outputs": [],
   "source": [
    "l.extend('hello')"
   ]
  },
  {
   "cell_type": "code",
   "execution_count": 45,
   "id": "543d71a5-7f2f-4f5e-8b54-57a88c615214",
   "metadata": {},
   "outputs": [
    {
     "data": {
      "text/plain": [
       "[1,\n",
       " 345,\n",
       " 7.9,\n",
       " 'hello',\n",
       " 34,\n",
       " 23,\n",
       " 5.9,\n",
       " [4, 6, 55, 44, 22],\n",
       " 5,\n",
       " '4',\n",
       " 'h',\n",
       " 'e',\n",
       " 'l',\n",
       " 'l',\n",
       " 'o']"
      ]
     },
     "execution_count": 45,
     "metadata": {},
     "output_type": "execute_result"
    }
   ],
   "source": [
    "l"
   ]
  },
  {
   "cell_type": "code",
   "execution_count": 46,
   "id": "2ba248f8-e242-4627-8ec0-d84e41dc760f",
   "metadata": {},
   "outputs": [],
   "source": [
    "l.extend([2,4,5,3])"
   ]
  },
  {
   "cell_type": "code",
   "execution_count": 47,
   "id": "6b5e0db1-74f2-4e1e-9f44-e665d8e1a653",
   "metadata": {},
   "outputs": [
    {
     "data": {
      "text/plain": [
       "[1,\n",
       " 345,\n",
       " 7.9,\n",
       " 'hello',\n",
       " 34,\n",
       " 23,\n",
       " 5.9,\n",
       " [4, 6, 55, 44, 22],\n",
       " 5,\n",
       " '4',\n",
       " 'h',\n",
       " 'e',\n",
       " 'l',\n",
       " 'l',\n",
       " 'o',\n",
       " 2,\n",
       " 4,\n",
       " 5,\n",
       " 3]"
      ]
     },
     "execution_count": 47,
     "metadata": {},
     "output_type": "execute_result"
    }
   ],
   "source": [
    "l"
   ]
  },
  {
   "cell_type": "code",
   "execution_count": 49,
   "id": "a4edf2bd-98b2-48f2-b458-6f8d84b8c2af",
   "metadata": {},
   "outputs": [],
   "source": [
    "l.insert(1,'ayush')"
   ]
  },
  {
   "cell_type": "code",
   "execution_count": 50,
   "id": "dda74133-f6bd-4502-85a0-933f5a5145f7",
   "metadata": {},
   "outputs": [
    {
     "data": {
      "text/plain": [
       "[1,\n",
       " 'ayush',\n",
       " 345,\n",
       " 7.9,\n",
       " 'hello',\n",
       " 34,\n",
       " 23,\n",
       " 5.9,\n",
       " [4, 6, 55, 44, 22],\n",
       " 5,\n",
       " '4',\n",
       " 'h',\n",
       " 'e',\n",
       " 'l',\n",
       " 'l',\n",
       " 'o',\n",
       " 2,\n",
       " 4,\n",
       " 5,\n",
       " 3]"
      ]
     },
     "execution_count": 50,
     "metadata": {},
     "output_type": "execute_result"
    }
   ],
   "source": [
    "l"
   ]
  },
  {
   "cell_type": "code",
   "execution_count": 51,
   "id": "f7f9ed3f-dbfb-47a4-a0b3-39152073a7af",
   "metadata": {},
   "outputs": [],
   "source": [
    "l1.insert(2,l)"
   ]
  },
  {
   "cell_type": "code",
   "execution_count": 52,
   "id": "506c594e-59a7-423b-9f0e-990d172af891",
   "metadata": {},
   "outputs": [
    {
     "data": {
      "text/plain": [
       "[2,\n",
       " 4,\n",
       " [1,\n",
       "  'ayush',\n",
       "  345,\n",
       "  7.9,\n",
       "  'hello',\n",
       "  34,\n",
       "  23,\n",
       "  5.9,\n",
       "  [4, 6, 55, 44, 22],\n",
       "  5,\n",
       "  '4',\n",
       "  'h',\n",
       "  'e',\n",
       "  'l',\n",
       "  'l',\n",
       "  'o',\n",
       "  2,\n",
       "  4,\n",
       "  5,\n",
       "  3],\n",
       " 5,\n",
       " 6,\n",
       " 5,\n",
       " 4,\n",
       " 'h',\n",
       " 'e',\n",
       " 'l',\n",
       " 'l',\n",
       " 'o']"
      ]
     },
     "execution_count": 52,
     "metadata": {},
     "output_type": "execute_result"
    }
   ],
   "source": [
    "l1"
   ]
  },
  {
   "cell_type": "code",
   "execution_count": 53,
   "id": "1cf395ad-f595-41f7-968c-c5db646c3854",
   "metadata": {},
   "outputs": [],
   "source": [
    "l1.insert(-1,45)"
   ]
  },
  {
   "cell_type": "code",
   "execution_count": 54,
   "id": "dbc9e48d-bcb5-4565-a37e-900e297a79b1",
   "metadata": {},
   "outputs": [
    {
     "data": {
      "text/plain": [
       "[2,\n",
       " 4,\n",
       " [1,\n",
       "  'ayush',\n",
       "  345,\n",
       "  7.9,\n",
       "  'hello',\n",
       "  34,\n",
       "  23,\n",
       "  5.9,\n",
       "  [4, 6, 55, 44, 22],\n",
       "  5,\n",
       "  '4',\n",
       "  'h',\n",
       "  'e',\n",
       "  'l',\n",
       "  'l',\n",
       "  'o',\n",
       "  2,\n",
       "  4,\n",
       "  5,\n",
       "  3],\n",
       " 5,\n",
       " 6,\n",
       " 5,\n",
       " 4,\n",
       " 'h',\n",
       " 'e',\n",
       " 'l',\n",
       " 'l',\n",
       " 45,\n",
       " 'o']"
      ]
     },
     "execution_count": 54,
     "metadata": {},
     "output_type": "execute_result"
    }
   ],
   "source": [
    "l1\n"
   ]
  },
  {
   "cell_type": "code",
   "execution_count": 55,
   "id": "2c3867b0-30a0-4fa3-b262-350623bbb397",
   "metadata": {},
   "outputs": [
    {
     "data": {
      "text/plain": [
       "'o'"
      ]
     },
     "execution_count": 55,
     "metadata": {},
     "output_type": "execute_result"
    }
   ],
   "source": [
    "l1.pop()"
   ]
  },
  {
   "cell_type": "code",
   "execution_count": 56,
   "id": "58a06c77-6b4c-4598-bcce-06fb94d712ca",
   "metadata": {},
   "outputs": [
    {
     "data": {
      "text/plain": [
       "45"
      ]
     },
     "execution_count": 56,
     "metadata": {},
     "output_type": "execute_result"
    }
   ],
   "source": [
    "l1.pop()"
   ]
  },
  {
   "cell_type": "code",
   "execution_count": 57,
   "id": "ccf64286-c835-46c0-98ad-42095d5bb7d5",
   "metadata": {},
   "outputs": [
    {
     "data": {
      "text/plain": [
       "5"
      ]
     },
     "execution_count": 57,
     "metadata": {},
     "output_type": "execute_result"
    }
   ],
   "source": [
    "l1.pop(3)"
   ]
  },
  {
   "cell_type": "code",
   "execution_count": 61,
   "id": "e0452a60-1d11-4771-b199-259d64b44c15",
   "metadata": {},
   "outputs": [],
   "source": [
    "l1.remove(2)"
   ]
  },
  {
   "cell_type": "code",
   "execution_count": 62,
   "id": "350bb216-b9d8-4383-8f21-c01110c52ec3",
   "metadata": {},
   "outputs": [
    {
     "data": {
      "text/plain": [
       "[4,\n",
       " [1,\n",
       "  'ayush',\n",
       "  345,\n",
       "  7.9,\n",
       "  'hello',\n",
       "  34,\n",
       "  23,\n",
       "  5.9,\n",
       "  [4, 6, 55, 44, 22],\n",
       "  5,\n",
       "  '4',\n",
       "  'h',\n",
       "  'e',\n",
       "  'l',\n",
       "  'l',\n",
       "  'o',\n",
       "  2,\n",
       "  4,\n",
       "  5,\n",
       "  3],\n",
       " 6,\n",
       " 5,\n",
       " 4,\n",
       " 'h',\n",
       " 'e',\n",
       " 'l',\n",
       " 'l']"
      ]
     },
     "execution_count": 62,
     "metadata": {},
     "output_type": "execute_result"
    }
   ],
   "source": [
    "l1"
   ]
  },
  {
   "cell_type": "code",
   "execution_count": 63,
   "id": "383e96f1-c59f-41a3-995b-26082925d079",
   "metadata": {},
   "outputs": [],
   "source": [
    "l1.remove(l)"
   ]
  },
  {
   "cell_type": "code",
   "execution_count": 64,
   "id": "b161386f-a537-4184-9e96-4822577ef0af",
   "metadata": {},
   "outputs": [
    {
     "data": {
      "text/plain": [
       "[4, 6, 5, 4, 'h', 'e', 'l', 'l']"
      ]
     },
     "execution_count": 64,
     "metadata": {},
     "output_type": "execute_result"
    }
   ],
   "source": [
    "l1"
   ]
  },
  {
   "cell_type": "code",
   "execution_count": 67,
   "id": "9359bea0-df1e-4a1c-b6f2-b9eaebe38009",
   "metadata": {},
   "outputs": [],
   "source": [
    "l1.remove(4)"
   ]
  },
  {
   "cell_type": "code",
   "execution_count": 68,
   "id": "51ee3f40-c1e5-4067-bbfe-bb3a34906ad3",
   "metadata": {},
   "outputs": [
    {
     "data": {
      "text/plain": [
       "[6, 5, 4, 'h', 'e', 'l', 'l']"
      ]
     },
     "execution_count": 68,
     "metadata": {},
     "output_type": "execute_result"
    }
   ],
   "source": [
    "l1"
   ]
  },
  {
   "cell_type": "code",
   "execution_count": 69,
   "id": "d8bf3f08-7930-4af3-ad05-9a332710119a",
   "metadata": {},
   "outputs": [],
   "source": [
    "l1.reverse()"
   ]
  },
  {
   "cell_type": "code",
   "execution_count": 70,
   "id": "312af0d4-016f-4775-9de8-11dc1eff2777",
   "metadata": {},
   "outputs": [
    {
     "data": {
      "text/plain": [
       "['l', 'l', 'e', 'h', 4, 5, 6]"
      ]
     },
     "execution_count": 70,
     "metadata": {},
     "output_type": "execute_result"
    }
   ],
   "source": [
    "l1"
   ]
  },
  {
   "cell_type": "code",
   "execution_count": 71,
   "id": "8fdd5c5b-eefe-4833-b034-8f72f13c85aa",
   "metadata": {},
   "outputs": [
    {
     "data": {
      "text/plain": [
       "[6, 5, 4, 'h', 'e', 'l', 'l']"
      ]
     },
     "execution_count": 71,
     "metadata": {},
     "output_type": "execute_result"
    }
   ],
   "source": [
    "l1[::-1]"
   ]
  },
  {
   "cell_type": "code",
   "execution_count": 72,
   "id": "efd2d79a-5e23-44b0-ae05-0ad8093e6a6c",
   "metadata": {},
   "outputs": [],
   "source": [
    "l1.reverse()"
   ]
  },
  {
   "cell_type": "code",
   "execution_count": 73,
   "id": "f19bc009-69ff-43a1-82ff-c7847efcb234",
   "metadata": {},
   "outputs": [
    {
     "data": {
      "text/plain": [
       "[6, 5, 4, 'h', 'e', 'l', 'l']"
      ]
     },
     "execution_count": 73,
     "metadata": {},
     "output_type": "execute_result"
    }
   ],
   "source": [
    "l1"
   ]
  },
  {
   "cell_type": "code",
   "execution_count": 74,
   "id": "71085249-4605-4755-bf9d-90dd39daf399",
   "metadata": {},
   "outputs": [
    {
     "ename": "TypeError",
     "evalue": "'<' not supported between instances of 'str' and 'int'",
     "output_type": "error",
     "traceback": [
      "\u001b[0;31m---------------------------------------------------------------------------\u001b[0m",
      "\u001b[0;31mTypeError\u001b[0m                                 Traceback (most recent call last)",
      "Cell \u001b[0;32mIn[74], line 1\u001b[0m\n\u001b[0;32m----> 1\u001b[0m \u001b[43ml1\u001b[49m\u001b[38;5;241;43m.\u001b[39;49m\u001b[43msort\u001b[49m\u001b[43m(\u001b[49m\u001b[43m)\u001b[49m\n",
      "\u001b[0;31mTypeError\u001b[0m: '<' not supported between instances of 'str' and 'int'"
     ]
    }
   ],
   "source": [
    "l1.sort()"
   ]
  },
  {
   "cell_type": "code",
   "execution_count": 76,
   "id": "e6700e23-b848-4b45-a745-93591cef5b69",
   "metadata": {},
   "outputs": [
    {
     "data": {
      "text/plain": [
       "[6, 5, 4, 'h', 'e', 'l', 'l']"
      ]
     },
     "execution_count": 76,
     "metadata": {},
     "output_type": "execute_result"
    }
   ],
   "source": [
    "l1"
   ]
  },
  {
   "cell_type": "code",
   "execution_count": 77,
   "id": "4a438648-caa2-47cf-98d0-a399fc604cc7",
   "metadata": {},
   "outputs": [],
   "source": [
    "l2= [2,4,5,6,4,3,2,1,1,5,0.8]"
   ]
  },
  {
   "cell_type": "code",
   "execution_count": 78,
   "id": "e78f85fe-7d73-48b5-985d-331037fcf94e",
   "metadata": {},
   "outputs": [],
   "source": [
    "l2.sort()"
   ]
  },
  {
   "cell_type": "code",
   "execution_count": 80,
   "id": "e5603060-6386-4d3d-8470-0d217983fe3a",
   "metadata": {},
   "outputs": [
    {
     "data": {
      "text/plain": [
       "[0.8, 1, 1, 2, 2, 3, 4, 4, 5, 5, 6]"
      ]
     },
     "execution_count": 80,
     "metadata": {},
     "output_type": "execute_result"
    }
   ],
   "source": [
    "l2"
   ]
  },
  {
   "cell_type": "code",
   "execution_count": 81,
   "id": "25d96acc-3afc-431c-bdc0-fd1d2510b451",
   "metadata": {},
   "outputs": [],
   "source": [
    "l3 = ['hello',90,\"44\"]"
   ]
  },
  {
   "cell_type": "code",
   "execution_count": 82,
   "id": "93149ed5-7b22-4434-87ad-dc2519f3e533",
   "metadata": {},
   "outputs": [
    {
     "data": {
      "text/plain": [
       "['hello', 90, '44']"
      ]
     },
     "execution_count": 82,
     "metadata": {},
     "output_type": "execute_result"
    }
   ],
   "source": [
    "l3"
   ]
  },
  {
   "cell_type": "code",
   "execution_count": 84,
   "id": "46d7e067-92a6-4eff-a841-40ec0292a4dc",
   "metadata": {},
   "outputs": [],
   "source": [
    "l4 =['hello','ayush','help']"
   ]
  },
  {
   "cell_type": "code",
   "execution_count": 85,
   "id": "ce849ebd-43c1-4b2a-a4c9-46df5fa3f42f",
   "metadata": {},
   "outputs": [
    {
     "data": {
      "text/plain": [
       "['hello', 'ayush', 'help']"
      ]
     },
     "execution_count": 85,
     "metadata": {},
     "output_type": "execute_result"
    }
   ],
   "source": [
    "l4"
   ]
  },
  {
   "cell_type": "code",
   "execution_count": 86,
   "id": "7dc80e1d-6ad9-4401-8654-7f62cc3b61e9",
   "metadata": {},
   "outputs": [],
   "source": [
    "l4.sort()"
   ]
  },
  {
   "cell_type": "code",
   "execution_count": 87,
   "id": "5d9734b2-167a-4d1b-9e83-035b35eadf98",
   "metadata": {},
   "outputs": [
    {
     "data": {
      "text/plain": [
       "['ayush', 'hello', 'help']"
      ]
     },
     "execution_count": 87,
     "metadata": {},
     "output_type": "execute_result"
    }
   ],
   "source": [
    "l4"
   ]
  },
  {
   "cell_type": "code",
   "execution_count": 89,
   "id": "8ca37a6d-9085-44c9-94b5-5b25c2ba1f42",
   "metadata": {},
   "outputs": [
    {
     "data": {
      "text/plain": [
       "1"
      ]
     },
     "execution_count": 89,
     "metadata": {},
     "output_type": "execute_result"
    }
   ],
   "source": [
    "l4.count('ayush')"
   ]
  },
  {
   "cell_type": "code",
   "execution_count": 90,
   "id": "aba70539-24ed-46eb-b184-088869719361",
   "metadata": {},
   "outputs": [],
   "source": [
    "l4[0] = 30"
   ]
  },
  {
   "cell_type": "code",
   "execution_count": 91,
   "id": "07444f62-8c3c-483b-b2c7-b3cea0aeafc0",
   "metadata": {},
   "outputs": [
    {
     "data": {
      "text/plain": [
       "[30, 'hello', 'help']"
      ]
     },
     "execution_count": 91,
     "metadata": {},
     "output_type": "execute_result"
    }
   ],
   "source": [
    "l4"
   ]
  },
  {
   "cell_type": "code",
   "execution_count": 95,
   "id": "aa0a8b41-3d7a-47e3-a7d6-da235bdb1e67",
   "metadata": {},
   "outputs": [
    {
     "data": {
      "text/plain": [
       "'akilla'"
      ]
     },
     "execution_count": 95,
     "metadata": {},
     "output_type": "execute_result"
    }
   ],
   "source": [
    "n.replace('s','a')"
   ]
  },
  {
   "cell_type": "code",
   "execution_count": 96,
   "id": "76e84662-39f5-4cfc-bc59-95a91650e600",
   "metadata": {},
   "outputs": [
    {
     "data": {
      "text/plain": [
       "'skills'"
      ]
     },
     "execution_count": 96,
     "metadata": {},
     "output_type": "execute_result"
    }
   ],
   "source": [
    "n"
   ]
  },
  {
   "cell_type": "code",
   "execution_count": 98,
   "id": "7a50521f-2946-40b2-a4ff-2b4a4624754d",
   "metadata": {},
   "outputs": [],
   "source": [
    "#Tuples"
   ]
  },
  {
   "cell_type": "code",
   "execution_count": 114,
   "id": "58a225d4-c13c-4a94-ae99-8826cfb82163",
   "metadata": {},
   "outputs": [],
   "source": [
    "t = (2,3,4,'hello',45.3,False,[3,5,6])"
   ]
  },
  {
   "cell_type": "code",
   "execution_count": 115,
   "id": "3ea9088b-a38b-4a58-8f81-8d958cb6058f",
   "metadata": {},
   "outputs": [
    {
     "data": {
      "text/plain": [
       "tuple"
      ]
     },
     "execution_count": 115,
     "metadata": {},
     "output_type": "execute_result"
    }
   ],
   "source": [
    "type(t)"
   ]
  },
  {
   "cell_type": "code",
   "execution_count": 101,
   "id": "988655e2-032a-4951-921e-a0eebe722a26",
   "metadata": {},
   "outputs": [
    {
     "data": {
      "text/plain": [
       "2"
      ]
     },
     "execution_count": 101,
     "metadata": {},
     "output_type": "execute_result"
    }
   ],
   "source": [
    "t[0]"
   ]
  },
  {
   "cell_type": "code",
   "execution_count": 102,
   "id": "45ec52b8-9e58-408c-ac71-eff54bf69bfd",
   "metadata": {},
   "outputs": [
    {
     "data": {
      "text/plain": [
       "[3, 5, 6]"
      ]
     },
     "execution_count": 102,
     "metadata": {},
     "output_type": "execute_result"
    }
   ],
   "source": [
    "t[-1]"
   ]
  },
  {
   "cell_type": "code",
   "execution_count": 103,
   "id": "98c1804e-e096-4aa1-9e08-f9d2ee2121c7",
   "metadata": {},
   "outputs": [
    {
     "data": {
      "text/plain": [
       "([3, 5, 6], False, 45.3, 'hello', 4, 3, 2)"
      ]
     },
     "execution_count": 103,
     "metadata": {},
     "output_type": "execute_result"
    }
   ],
   "source": [
    "t[::-1]"
   ]
  },
  {
   "cell_type": "code",
   "execution_count": 104,
   "id": "73aafc50-2742-42c6-90a8-940a539e08a9",
   "metadata": {},
   "outputs": [
    {
     "data": {
      "text/plain": [
       "30"
      ]
     },
     "execution_count": 104,
     "metadata": {},
     "output_type": "execute_result"
    }
   ],
   "source": [
    "l4[0]"
   ]
  },
  {
   "cell_type": "code",
   "execution_count": 111,
   "id": "5ec00a33-e96f-44f2-abdb-e21371623f8c",
   "metadata": {},
   "outputs": [
    {
     "data": {
      "text/plain": [
       "30"
      ]
     },
     "execution_count": 111,
     "metadata": {},
     "output_type": "execute_result"
    }
   ],
   "source": [
    "t"
   ]
  },
  {
   "cell_type": "code",
   "execution_count": 112,
   "id": "63a1fe52-dd8e-4831-b358-54c1927ecf7e",
   "metadata": {},
   "outputs": [
    {
     "data": {
      "text/plain": [
       "30"
      ]
     },
     "execution_count": 112,
     "metadata": {},
     "output_type": "execute_result"
    }
   ],
   "source": [
    "t"
   ]
  },
  {
   "cell_type": "code",
   "execution_count": 116,
   "id": "0ab4cc2d-dbe0-4917-a106-95f55ccf15c0",
   "metadata": {},
   "outputs": [
    {
     "data": {
      "text/plain": [
       "(2, 3, 4, 'hello', 45.3, False, [3, 5, 6])"
      ]
     },
     "execution_count": 116,
     "metadata": {},
     "output_type": "execute_result"
    }
   ],
   "source": [
    "t"
   ]
  },
  {
   "cell_type": "code",
   "execution_count": 117,
   "id": "ed80fbd5-2ed0-46c5-b3d2-c6b4f5c2d1d9",
   "metadata": {},
   "outputs": [
    {
     "data": {
      "text/plain": [
       "1"
      ]
     },
     "execution_count": 117,
     "metadata": {},
     "output_type": "execute_result"
    }
   ],
   "source": [
    "t.count(2)"
   ]
  },
  {
   "cell_type": "code",
   "execution_count": 119,
   "id": "f08e7a5d-70a4-4c25-bc2c-49eb579075e2",
   "metadata": {},
   "outputs": [
    {
     "data": {
      "text/plain": [
       "3"
      ]
     },
     "execution_count": 119,
     "metadata": {},
     "output_type": "execute_result"
    }
   ],
   "source": [
    "t.index('hello')"
   ]
  },
  {
   "cell_type": "code",
   "execution_count": 120,
   "id": "082dde89-a8eb-4c34-afa4-48d63bbf081a",
   "metadata": {},
   "outputs": [
    {
     "data": {
      "text/plain": [
       "(2, 3, 4, 'hello', 45.3, False, [3, 5, 6])"
      ]
     },
     "execution_count": 120,
     "metadata": {},
     "output_type": "execute_result"
    }
   ],
   "source": [
    "t"
   ]
  },
  {
   "cell_type": "code",
   "execution_count": 121,
   "id": "95585ddc-9f78-48f7-9c70-e12dbaf4e30e",
   "metadata": {},
   "outputs": [
    {
     "data": {
      "text/plain": [
       "5"
      ]
     },
     "execution_count": 121,
     "metadata": {},
     "output_type": "execute_result"
    }
   ],
   "source": [
    "t.index(False)"
   ]
  },
  {
   "cell_type": "code",
   "execution_count": 124,
   "id": "68d8bad9-2944-4c81-8ec7-85935cb12363",
   "metadata": {},
   "outputs": [],
   "source": [
    "s1 ={3,4,4,5}"
   ]
  },
  {
   "cell_type": "code",
   "execution_count": 125,
   "id": "47f16a92-2ac3-458f-89b8-5ee895db44a1",
   "metadata": {},
   "outputs": [
    {
     "data": {
      "text/plain": [
       "set"
      ]
     },
     "execution_count": 125,
     "metadata": {},
     "output_type": "execute_result"
    }
   ],
   "source": [
    "type(s1)"
   ]
  },
  {
   "cell_type": "code",
   "execution_count": 126,
   "id": "85a0661b-cd80-4a27-a5b1-f837422490a3",
   "metadata": {},
   "outputs": [
    {
     "data": {
      "text/plain": [
       "{3, 4, 5}"
      ]
     },
     "execution_count": 126,
     "metadata": {},
     "output_type": "execute_result"
    }
   ],
   "source": [
    "s1"
   ]
  },
  {
   "cell_type": "code",
   "execution_count": 127,
   "id": "73fc528d-aa7d-4dba-8181-cdd132900398",
   "metadata": {},
   "outputs": [],
   "source": [
    "s1 = {(3,4,5,4),6,9,3,2,1,1,1,1,1,3,4,4,5}"
   ]
  },
  {
   "cell_type": "code",
   "execution_count": 128,
   "id": "5282a6f3-1a88-4df3-889d-25c573b1225b",
   "metadata": {},
   "outputs": [
    {
     "data": {
      "text/plain": [
       "set"
      ]
     },
     "execution_count": 128,
     "metadata": {},
     "output_type": "execute_result"
    }
   ],
   "source": [
    "type(s1)"
   ]
  },
  {
   "cell_type": "code",
   "execution_count": 129,
   "id": "8a8b9ccc-6136-4a05-9c93-ffd97669744a",
   "metadata": {},
   "outputs": [
    {
     "data": {
      "text/plain": [
       "{(3, 4, 5, 4), 1, 2, 3, 4, 5, 6, 9}"
      ]
     },
     "execution_count": 129,
     "metadata": {},
     "output_type": "execute_result"
    }
   ],
   "source": [
    "s1"
   ]
  },
  {
   "cell_type": "code",
   "execution_count": 130,
   "id": "e543ebcb-a056-40a1-bca6-18ed388183d0",
   "metadata": {},
   "outputs": [],
   "source": [
    "l6 = {9,10,4,3,2,2,\"hello\",\"hello\"}"
   ]
  },
  {
   "cell_type": "code",
   "execution_count": 131,
   "id": "08b78c6e-1b18-49e6-b392-30a775f0d92e",
   "metadata": {},
   "outputs": [
    {
     "data": {
      "text/plain": [
       "{10, 2, 3, 4, 9, 'hello'}"
      ]
     },
     "execution_count": 131,
     "metadata": {},
     "output_type": "execute_result"
    }
   ],
   "source": [
    "l6"
   ]
  },
  {
   "cell_type": "code",
   "execution_count": 133,
   "id": "99e5aba2-0490-4387-ba0f-8e67f9fd27fa",
   "metadata": {},
   "outputs": [],
   "source": [
    "l7 = {'hello',4,5,6,6,2,1,3,4,5,6,6,7,8,8,}\n"
   ]
  },
  {
   "cell_type": "code",
   "execution_count": 134,
   "id": "1640c5b3-76c9-433e-8a5a-0ab4704089c3",
   "metadata": {},
   "outputs": [
    {
     "data": {
      "text/plain": [
       "{1, 2, 3, 4, 5, 6, 7, 8, 'hello'}"
      ]
     },
     "execution_count": 134,
     "metadata": {},
     "output_type": "execute_result"
    }
   ],
   "source": [
    "l7"
   ]
  },
  {
   "cell_type": "code",
   "execution_count": 136,
   "id": "b7390467-2538-44a3-8be7-9201ae567dd3",
   "metadata": {},
   "outputs": [],
   "source": [
    "l8 = {8989,780,23,45,1,12,3,4,5,66,3}"
   ]
  },
  {
   "cell_type": "code",
   "execution_count": 137,
   "id": "01d08112-e738-456a-81ee-3756a9ec570d",
   "metadata": {},
   "outputs": [
    {
     "data": {
      "text/plain": [
       "{1, 3, 4, 5, 12, 23, 45, 66, 780, 8989}"
      ]
     },
     "execution_count": 137,
     "metadata": {},
     "output_type": "execute_result"
    }
   ],
   "source": [
    "l8"
   ]
  },
  {
   "cell_type": "code",
   "execution_count": 140,
   "id": "b7707b87-606e-43a9-8608-2aeebd35d96a",
   "metadata": {},
   "outputs": [],
   "source": [
    "l8.add(4)"
   ]
  },
  {
   "cell_type": "code",
   "execution_count": 141,
   "id": "18a39087-5489-4e46-a9ed-e56c7885c190",
   "metadata": {},
   "outputs": [
    {
     "data": {
      "text/plain": [
       "{1, 3, 4, 5, 12, 23, 45, 66, 780, 8989}"
      ]
     },
     "execution_count": 141,
     "metadata": {},
     "output_type": "execute_result"
    }
   ],
   "source": [
    "l8"
   ]
  },
  {
   "cell_type": "code",
   "execution_count": 142,
   "id": "ef182e7e-1fe8-482f-897e-47d59700583c",
   "metadata": {},
   "outputs": [],
   "source": [
    "l8.add(6)"
   ]
  },
  {
   "cell_type": "code",
   "execution_count": 143,
   "id": "e75b85ee-07ef-4d32-88c8-760e74fd3d4d",
   "metadata": {},
   "outputs": [
    {
     "data": {
      "text/plain": [
       "{1, 3, 4, 5, 6, 12, 23, 45, 66, 780, 8989}"
      ]
     },
     "execution_count": 143,
     "metadata": {},
     "output_type": "execute_result"
    }
   ],
   "source": [
    "l8"
   ]
  },
  {
   "cell_type": "code",
   "execution_count": 144,
   "id": "b34a9d1e-0459-40fe-a5a9-91b088af130c",
   "metadata": {},
   "outputs": [
    {
     "data": {
      "text/plain": [
       "{1, 3, 4, 5, 6, 12, 23, 45, 66, 780, 8989}"
      ]
     },
     "execution_count": 144,
     "metadata": {},
     "output_type": "execute_result"
    }
   ],
   "source": [
    "l8"
   ]
  },
  {
   "cell_type": "code",
   "execution_count": 149,
   "id": "0bbaa76b-2e7c-495e-9953-163866457b3a",
   "metadata": {},
   "outputs": [
    {
     "data": {
      "text/plain": [
       "{1, 3, 4, 5, 6, 12, 23, 45, 66, 780, 8989}"
      ]
     },
     "execution_count": 149,
     "metadata": {},
     "output_type": "execute_result"
    }
   ],
   "source": [
    "l8"
   ]
  },
  {
   "cell_type": "code",
   "execution_count": 150,
   "id": "4064f137-f55e-4359-b902-4eac167a8020",
   "metadata": {},
   "outputs": [
    {
     "data": {
      "text/plain": [
       "{1, 3, 4, 5, 6, 12, 23, 45, 66, 780, 8989}"
      ]
     },
     "execution_count": 150,
     "metadata": {},
     "output_type": "execute_result"
    }
   ],
   "source": [
    "l8"
   ]
  },
  {
   "cell_type": "code",
   "execution_count": 151,
   "id": "f4f6e793-97f4-43af-87bd-fba9bd538155",
   "metadata": {},
   "outputs": [
    {
     "data": {
      "text/plain": [
       "{1, 2, 3, 4, 5, 6, 7, 8, 'hello'}"
      ]
     },
     "execution_count": 151,
     "metadata": {},
     "output_type": "execute_result"
    }
   ],
   "source": [
    "l7"
   ]
  },
  {
   "cell_type": "code",
   "execution_count": 154,
   "id": "4cb84f75-1f7e-4635-a832-ef54f1e23cad",
   "metadata": {},
   "outputs": [
    {
     "data": {
      "text/plain": [
       "{1, 2, 3, 4, 5, 6, 7, 8, 'hello'}"
      ]
     },
     "execution_count": 154,
     "metadata": {},
     "output_type": "execute_result"
    }
   ],
   "source": [
    "l7"
   ]
  },
  {
   "cell_type": "code",
   "execution_count": 156,
   "id": "92a9b1b1-811e-4877-b70e-ec9af84e5a79",
   "metadata": {},
   "outputs": [
    {
     "data": {
      "text/plain": [
       "{1, 2, 3, 4, 5, 6, 7, 8, 'hello'}"
      ]
     },
     "execution_count": 156,
     "metadata": {},
     "output_type": "execute_result"
    }
   ],
   "source": [
    "l7"
   ]
  },
  {
   "cell_type": "code",
   "execution_count": null,
   "id": "748dc7a8-6f0e-4acd-9ca9-c35a88511e17",
   "metadata": {},
   "outputs": [],
   "source": []
  }
 ],
 "metadata": {
  "kernelspec": {
   "display_name": "Python 3 (ipykernel)",
   "language": "python",
   "name": "python3"
  },
  "language_info": {
   "codemirror_mode": {
    "name": "ipython",
    "version": 3
   },
   "file_extension": ".py",
   "mimetype": "text/x-python",
   "name": "python",
   "nbconvert_exporter": "python",
   "pygments_lexer": "ipython3",
   "version": "3.10.8"
  }
 },
 "nbformat": 4,
 "nbformat_minor": 5
}
