{
 "cells": [
  {
   "cell_type": "code",
   "execution_count": 21,
   "id": "a3754f0e-3b3d-4709-bb3d-6b8c8b2e982b",
   "metadata": {},
   "outputs": [
    {
     "name": "stdout",
     "output_type": "stream",
     "text": [
      "this is my print\n"
     ]
    }
   ],
   "source": [
    "print(\"this is my print\")"
   ]
  },
  {
   "cell_type": "code",
   "execution_count": 22,
   "id": "2cd3c557-068c-4619-98d6-025e0ac10aee",
   "metadata": {},
   "outputs": [],
   "source": [
    "import logging \n"
   ]
  },
  {
   "cell_type": "code",
   "execution_count": 23,
   "id": "8eae5055-a4c1-45c5-a4c7-fc28736d822a",
   "metadata": {},
   "outputs": [],
   "source": [
    "logging.basicConfig(filename = \"test.log\", level = logging.INFO)"
   ]
  },
  {
   "cell_type": "code",
   "execution_count": 24,
   "id": "882f5abd-1680-442c-b681-a332e3f9175c",
   "metadata": {},
   "outputs": [],
   "source": [
    "logging.info(\"log this is line of execution\")"
   ]
  },
  {
   "cell_type": "code",
   "execution_count": 25,
   "id": "fba9563e-e5cc-4e3c-a571-c5a8afc5a9ff",
   "metadata": {},
   "outputs": [],
   "source": [
    "logging.info(\"this is my print\")"
   ]
  },
  {
   "cell_type": "code",
   "execution_count": 26,
   "id": "e68e1b6a-883b-4143-9f91-7c10aa88e791",
   "metadata": {},
   "outputs": [],
   "source": [
    "logging.warning(\"help for this me \")"
   ]
  },
  {
   "cell_type": "code",
   "execution_count": 35,
   "id": "24c3b25f-0d95-4297-8cfb-6c358c3ba8a2",
   "metadata": {},
   "outputs": [],
   "source": [
    "logging.basicConfig(filename = \"test2.log\", level = logging.DEBUG , format = '%(asctime)s %(massage)s' )"
   ]
  },
  {
   "cell_type": "code",
   "execution_count": 36,
   "id": "991c112c-ae98-4e82-950f-1414d46da690",
   "metadata": {},
   "outputs": [],
   "source": [
    "logging.info(\"This is my info logging\")\n",
    "logging.error(\"THis is my error \")"
   ]
  },
  {
   "cell_type": "code",
   "execution_count": 37,
   "id": "5a0fe5a5-8842-497e-b81c-65ac3e69b85b",
   "metadata": {},
   "outputs": [],
   "source": [
    "l = [2,3,45,5,6,[2,4,5,6,6,64] , \"sudh\" , \"kumar\"]"
   ]
  },
  {
   "cell_type": "code",
   "execution_count": 38,
   "id": "903c172d-e138-4965-a739-65e68a7e2cfa",
   "metadata": {},
   "outputs": [],
   "source": [
    "l1_int = []\n",
    "l2_str = []\n",
    "\n",
    "for i in l:\n",
    "    if type(i) == list :\n",
    "        for j in i :\n",
    "            if type(j) == int:\n",
    "                l1_int.append(j)\n",
    "    elif type(i) == int : \n",
    "        l1_int.append(i)\n",
    "    else: \n",
    "        if type(i) == str :\n",
    "            l2_str.append(i)\n",
    "            "
   ]
  },
  {
   "cell_type": "code",
   "execution_count": 39,
   "id": "3fed5f57-7b54-49c6-9b6f-e6b8d93ed85f",
   "metadata": {},
   "outputs": [
    {
     "data": {
      "text/plain": [
       "[2, 3, 45, 5, 6, 2, 4, 5, 6, 6, 64]"
      ]
     },
     "execution_count": 39,
     "metadata": {},
     "output_type": "execute_result"
    }
   ],
   "source": [
    "l1_int"
   ]
  },
  {
   "cell_type": "code",
   "execution_count": 40,
   "id": "36ea79ab-444c-460e-8d07-da00a6a5b5dc",
   "metadata": {},
   "outputs": [
    {
     "data": {
      "text/plain": [
       "['sudh', 'kumar']"
      ]
     },
     "execution_count": 40,
     "metadata": {},
     "output_type": "execute_result"
    }
   ],
   "source": [
    "l2_str"
   ]
  },
  {
   "cell_type": "code",
   "execution_count": 41,
   "id": "1e66c7fc-67b4-44a3-b72d-6607c10fe519",
   "metadata": {},
   "outputs": [],
   "source": [
    "l1_int = []\n",
    "l2_str = []\n",
    "\n",
    "for i in l:\n",
    "    logging.info(\"we iterating throuhg our list and our local var is i \")\n",
    "    if type(i) == list :\n",
    "        logging.info(\"i am inside if statement and i am trying to check list type\")\n",
    "        for j in i :\n",
    "            logging.info(\"i am another  for loop for list inside list element\")\n",
    "            if type(j) == int:\n",
    "                l1_int.append(j)\n",
    "    elif type(i) == int : \n",
    "        l1_int.append(i)\n",
    "    else: \n",
    "        if type(i) == str :\n",
    "            \n",
    "            l2_str.append(i)\n",
    "            "
   ]
  },
  {
   "cell_type": "code",
   "execution_count": 42,
   "id": "ab23240f-c5c0-48d9-81db-e35ad7d28580",
   "metadata": {},
   "outputs": [
    {
     "ename": "NameError",
     "evalue": "name 'l1' is not defined",
     "output_type": "error",
     "traceback": [
      "\u001b[0;31m---------------------------------------------------------------------------\u001b[0m",
      "\u001b[0;31mNameError\u001b[0m                                 Traceback (most recent call last)",
      "Cell \u001b[0;32mIn[42], line 1\u001b[0m\n\u001b[0;32m----> 1\u001b[0m \u001b[43ml1\u001b[49m\n",
      "\u001b[0;31mNameError\u001b[0m: name 'l1' is not defined"
     ]
    }
   ],
   "source": []
  },
  {
   "cell_type": "code",
   "execution_count": null,
   "id": "95ed7fd6-f766-40ce-9b2e-039100984ce0",
   "metadata": {},
   "outputs": [],
   "source": []
  },
  {
   "cell_type": "code",
   "execution_count": null,
   "id": "2d26114f-3433-4095-9ddb-b42840c92603",
   "metadata": {},
   "outputs": [],
   "source": []
  }
 ],
 "metadata": {
  "kernelspec": {
   "display_name": "Python 3 (ipykernel)",
   "language": "python",
   "name": "python3"
  },
  "language_info": {
   "codemirror_mode": {
    "name": "ipython",
    "version": 3
   },
   "file_extension": ".py",
   "mimetype": "text/x-python",
   "name": "python",
   "nbconvert_exporter": "python",
   "pygments_lexer": "ipython3",
   "version": "3.10.8"
  }
 },
 "nbformat": 4,
 "nbformat_minor": 5
}
